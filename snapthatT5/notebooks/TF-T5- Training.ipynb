{
 "cells": [
  {
   "cell_type": "markdown",
   "metadata": {
    "colab_type": "text",
    "id": "view-in-github"
   },
   "source": [
    "<a href=\"https://colab.research.google.com/github/snapthat/TF-T5-text-to-text/blob/master/snapthatT5/notebooks/TF-T5-%20Training.ipynb\" target=\"_parent\"><img src=\"https://colab.research.google.com/assets/colab-badge.svg\" alt=\"Open In Colab\"/></a>"
   ]
  },
  {
   "cell_type": "markdown",
   "metadata": {},
   "source": [
    "<a href= \"https://www.snapthat.ai/\"> <img src=\"https://www.snapthat.ai/img/landing/images/logo_h1.png\" /></a>"
   ]
  },
  {
   "cell_type": "markdown",
   "metadata": {},
   "source": [
    "## Training T5 using Native Tensorflow 2"
   ]
  },
  {
   "cell_type": "markdown",
   "metadata": {},
   "source": [
    "The purpose of this notebook is to demonstrate training using tensorflow 2 and keras. This notebook includes tf Data pipelines for build any other NLP task in a text to text fashion. Anyone can adapt the data pipeline to thier own datasets for Text-2-Text fashion training.\n",
    "#### Features\n",
    "- Train TF T5 on SQUAD questioning and answering\n",
    "- Train T5 using keras trainer fucntion\n",
    "- tf.Data pipeline\n",
    "- TF datasets as source\n",
    "- Log metrics using tensorboard\n",
    "- Profile your experiment with the brand new tensorflow profiler !!"
   ]
  },
  {
   "cell_type": "code",
   "execution_count": 1,
   "metadata": {
    "colab": {},
    "colab_type": "code",
    "id": "6aWoa3AtDXN0"
   },
   "outputs": [],
   "source": [
    "import tensorflow_datasets as tfds\n",
    "import tensorflow as tf\n",
    "\n",
    "import time\n",
    "import numpy as np\n",
    "import matplotlib.pyplot as plt\n",
    "import tensorflow_datasets as tfds\n",
    "from transformers import (TFAutoModelWithLMHead, AutoTokenizer, \n",
    "    TFTrainer, TFTrainingArguments, TFT5ForConditionalGeneration, T5Config)\n",
    "import datetime\n",
    "import os"
   ]
  },
  {
   "cell_type": "code",
   "execution_count": 2,
   "metadata": {
    "colab": {},
    "colab_type": "code",
    "id": "HW4rT8FODXN3"
   },
   "outputs": [],
   "source": [
    "os.environ[\"TF_GPU_THREAD_MODE\"]=\"gpu_private\""
   ]
  },
  {
   "cell_type": "code",
   "execution_count": 3,
   "metadata": {
    "colab": {},
    "colab_type": "code",
    "id": "OQ5CoTk-DXN6",
    "outputId": "e10031cf-7e75-4012-e4a4-7ac3ecee9d1e"
   },
   "outputs": [
    {
     "data": {
      "text/plain": [
       "'2.3.1'"
      ]
     },
     "execution_count": 3,
     "metadata": {},
     "output_type": "execute_result"
    }
   ],
   "source": [
    "tf.__version__"
   ]
  },
  {
   "cell_type": "code",
   "execution_count": 4,
   "metadata": {
    "colab": {},
    "colab_type": "code",
    "id": "KRMGSskHDXOA"
   },
   "outputs": [],
   "source": [
    "data_dir = \"/home/ml/workspace/ai/TF-T5-text-to-text/data\"\n",
    "\n",
    "log_dir = f\"{data_dir}/experiments/t5/logs\"\n",
    "save_path = f\"{data_dir}/experiments/t5/models\"\n",
    "cache_path_train = f\"{data_dir}/cache/t5.train\"\n",
    "cache_path_test = f\"{data_dir}/cache/t5.test\""
   ]
  },
  {
   "cell_type": "markdown",
   "metadata": {},
   "source": [
    "### Defining the Model"
   ]
  },
  {
   "cell_type": "code",
   "execution_count": 5,
   "metadata": {
    "colab": {},
    "colab_type": "code",
    "id": "2xcGqd9qDXOF"
   },
   "outputs": [],
   "source": [
    "class SnapthatT5(TFT5ForConditionalGeneration):\n",
    "    def __init__(self, *args, log_dir=None, cache_dir= None, **kwargs):\n",
    "        super().__init__(*args, **kwargs)\n",
    "        self.loss_tracker= tf.keras.metrics.Mean(name='loss') \n",
    "    \n",
    "    @tf.function\n",
    "    def train_step(self, data):\n",
    "        x, y  = data\n",
    "        with tf.GradientTape() as tape:\n",
    "            outputs = self(x, training=True)\n",
    "            loss = outputs[0]\n",
    "            logits = outputs[1]\n",
    "            loss = tf.reduce_mean(loss)\n",
    "            \n",
    "            grads = tape.gradient(loss, self.trainable_variables)\n",
    "            \n",
    "        self.optimizer.apply_gradients(zip(grads, self.trainable_variables))\n",
    "        lr = self.optimizer._decayed_lr(tf.float32)\n",
    "#         lr = lr if tf.is_tensor(optimizer.lr) else optimzer.lr(optimizer.)\n",
    "        \n",
    "        self.loss_tracker.update_state(loss)\n",
    "        \n",
    "        self.compiled_metrics.update_state(y, logits)\n",
    "        metrics = {m.name: m.result() for m in self.metrics}\n",
    "        metrics.update({'lr': lr})\n",
    "        \n",
    "        return metrics\n",
    "\n",
    "    def test_step(self, data):\n",
    "        x, y = data\n",
    "        output = self(x, training=False)\n",
    "        loss = output[0]\n",
    "        loss = tf.reduce_mean(loss)\n",
    "        logits = output[1]\n",
    "        \n",
    "        self.loss_tracker.update_state(loss)\n",
    "        self.compiled_metrics.update_state(y, logits)\n",
    "        return {m.name: m.result() for m in self.metrics}\n",
    "\n",
    "        "
   ]
  },
  {
   "cell_type": "markdown",
   "metadata": {},
   "source": [
    "### The Tokenizer"
   ]
  },
  {
   "cell_type": "code",
   "execution_count": 6,
   "metadata": {
    "colab": {},
    "colab_type": "code",
    "id": "VvOrIgzODXOD"
   },
   "outputs": [],
   "source": [
    "tokenizer = AutoTokenizer.from_pretrained(\"t5-base\")          "
   ]
  },
  {
   "cell_type": "markdown",
   "metadata": {
    "colab": {},
    "colab_type": "code",
    "id": "1EgTphQODXOH"
   },
   "source": [
    "## Preparing the Data"
   ]
  },
  {
   "cell_type": "code",
   "execution_count": 7,
   "metadata": {
    "colab": {},
    "colab_type": "code",
    "id": "KX1rsWgZDXOK",
    "outputId": "8967c22c-732a-422f-9e1d-8462d23ecb0f",
    "scrolled": true
   },
   "outputs": [
    {
     "name": "stderr",
     "output_type": "stream",
     "text": [
      "INFO:absl:No config specified, defaulting to first: squad/plain_text\n",
      "INFO:absl:Load dataset info from /home/ml/tensorflow_datasets/squad/plain_text/1.0.0\n",
      "INFO:absl:Reusing dataset squad (/home/ml/tensorflow_datasets/squad/plain_text/1.0.0)\n",
      "INFO:absl:Constructing tf.data.Dataset for split train, from /home/ml/tensorflow_datasets/squad/plain_text/1.0.0\n",
      "INFO:absl:No config specified, defaulting to first: squad/plain_text\n",
      "INFO:absl:Load dataset info from /home/ml/tensorflow_datasets/squad/plain_text/1.0.0\n",
      "INFO:absl:Reusing dataset squad (/home/ml/tensorflow_datasets/squad/plain_text/1.0.0)\n",
      "INFO:absl:Constructing tf.data.Dataset for split validation, from /home/ml/tensorflow_datasets/squad/plain_text/1.0.0\n"
     ]
    },
    {
     "name": "stdout",
     "output_type": "stream",
     "text": [
      "tfds.core.DatasetInfo(\n",
      "    name='squad',\n",
      "    version=1.0.0,\n",
      "    description='Stanford Question Answering Dataset (SQuAD) is a reading comprehension dataset, consisting of questions posed by crowdworkers on a set of Wikipedia articles, where the answer to every question is a segment of text, or span, from the corresponding reading passage, or the question might be unanswerable.',\n",
      "    homepage='https://rajpurkar.github.io/SQuAD-explorer/',\n",
      "    features=FeaturesDict({\n",
      "        'answers': Sequence({\n",
      "            'answer_start': tf.int32,\n",
      "            'text': Text(shape=(), dtype=tf.string),\n",
      "        }),\n",
      "        'context': Text(shape=(), dtype=tf.string),\n",
      "        'id': tf.string,\n",
      "        'question': Text(shape=(), dtype=tf.string),\n",
      "        'title': Text(shape=(), dtype=tf.string),\n",
      "    }),\n",
      "    total_num_examples=98169,\n",
      "    splits={\n",
      "        'train': 87599,\n",
      "        'validation': 10570,\n",
      "    },\n",
      "    supervised_keys=None,\n",
      "    citation=\"\"\"@article{2016arXiv160605250R,\n",
      "           author = {{Rajpurkar}, Pranav and {Zhang}, Jian and {Lopyrev},\n",
      "                     Konstantin and {Liang}, Percy},\n",
      "            title = \"{SQuAD: 100,000+ Questions for Machine Comprehension of Text}\",\n",
      "          journal = {arXiv e-prints},\n",
      "             year = 2016,\n",
      "              eid = {arXiv:1606.05250},\n",
      "            pages = {arXiv:1606.05250},\n",
      "    archivePrefix = {arXiv},\n",
      "           eprint = {1606.05250},\n",
      "    }\"\"\",\n",
      "    redistribution_info=,\n",
      ")\n",
      "\n"
     ]
    }
   ],
   "source": [
    "train_dataset, info = tfds.load('squad', split='train', with_info=True)\n",
    "valid_dataset = tfds.load('squad', split='validation', with_info=False)\n",
    "print(info)"
   ]
  },
  {
   "cell_type": "code",
   "execution_count": 8,
   "metadata": {
    "colab": {},
    "colab_type": "code",
    "id": "y7EK-tgHDXOM"
   },
   "outputs": [
    {
     "name": "stdout",
     "output_type": "stream",
     "text": [
      "Example data from the dataset: \n",
      " {'answers': {'answer_start': <tf.Tensor: shape=(1,), dtype=int32, numpy=array([427], dtype=int32)>, 'text': <tf.Tensor: shape=(1,), dtype=string, numpy=array([b'mobile phones'], dtype=object)>}, 'context': <tf.Tensor: shape=(), dtype=string, numpy=b'The difference in the above factors for the case of \\xce\\xb8=0 is the reason that most broadcasting (transmissions intended for the public) uses vertical polarization. For receivers near the ground, horizontally polarized transmissions suffer cancellation. For best reception the receiving antennas for these signals are likewise vertically polarized. In some applications where the receiving antenna must work in any position, as in mobile phones, the base station antennas use mixed polarization, such as linear polarization at an angle (with both vertical and horizontal components) or circular polarization.'>, 'id': <tf.Tensor: shape=(), dtype=string, numpy=b'57306bf68ab72b1400f9c4dc'>, 'question': <tf.Tensor: shape=(), dtype=string, numpy=b'What is one use that would require an antenna to receive signals in various ways at once?'>, 'title': <tf.Tensor: shape=(), dtype=string, numpy=b'Antenna_(radio)'>}\n"
     ]
    }
   ],
   "source": [
    "data = next(iter(train_dataset))\n",
    "print(\"Example data from the dataset: \\n\", data)"
   ]
  },
  {
   "cell_type": "markdown",
   "metadata": {},
   "source": [
    "#### Training Parameters"
   ]
  },
  {
   "cell_type": "code",
   "execution_count": 9,
   "metadata": {
    "colab": {},
    "colab_type": "code",
    "id": "SIZFbP4IDXOO",
    "outputId": "7e5e1ad2-fdd7-448b-c32a-71208ddfa158"
   },
   "outputs": [
    {
     "name": "stdout",
     "output_type": "stream",
     "text": [
      "Total Steps:  21900\n",
      "Total Validation Steps:  2643\n"
     ]
    }
   ],
   "source": [
    "warmup_steps = 1e4\n",
    "batch_size = 4\n",
    "max_len = 100\n",
    "buffer_size = 1000\n",
    "ntrain = info.splits[\"train\"].num_examples\n",
    "nvalid = info.splits[\"validation\"].num_examples\n",
    "steps = int(np.ceil(ntrain/batch_size))\n",
    "valid_steps = int(np.ceil(nvalid/batch_size))\n",
    "print(\"Total Steps: \", steps)\n",
    "print(\"Total Validation Steps: \", valid_steps)"
   ]
  },
  {
   "cell_type": "markdown",
   "metadata": {},
   "source": [
    "### Defining the data pipeline"
   ]
  },
  {
   "cell_type": "code",
   "execution_count": 10,
   "metadata": {
    "colab": {},
    "colab_type": "code",
    "id": "NdhcP171DXOY"
   },
   "outputs": [],
   "source": [
    "def encode(context,question ,answer, max_length=max_len):\n",
    "    question_plus = f\"answer_me: {str(question.numpy().decode('utf-8'))}\"\n",
    "    question_plus += f\" context: {str(context.numpy().decode('utf-8'))}  </s>\"\n",
    "    \n",
    "    answer_plus = ', '.join([i.decode('utf-8') for i in list(answer.numpy())])\n",
    "    answer_plus = f\"{answer_plus} </s>\"\n",
    "    \n",
    "    encoder_inputs = tokenizer(question_plus, truncation=True, \n",
    "                               return_tensors='tf', max_length=max_length,\n",
    "                              pad_to_max_length=True)\n",
    "    \n",
    "    decoder_inputs = tokenizer(answer_plus, truncation=True, \n",
    "                               return_tensors='tf', max_length=max_length,\n",
    "                              pad_to_max_length=True)\n",
    "    \n",
    "    input_ids = encoder_inputs['input_ids'][0]\n",
    "    input_attention = encoder_inputs['attention_mask'][0]\n",
    "    target_ids = decoder_inputs['input_ids'][0]\n",
    "    target_attention = decoder_inputs['attention_mask'][0]\n",
    "    \n",
    "    return input_ids,input_attention, target_ids, target_attention\n",
    "    \n",
    "    "
   ]
  },
  {
   "cell_type": "code",
   "execution_count": 11,
   "metadata": {
    "colab": {},
    "colab_type": "code",
    "id": "-sdlkpyEDXOa"
   },
   "outputs": [],
   "source": [
    "def encode_tf(inputs):\n",
    "    context = inputs['context']\n",
    "    question = inputs['question']\n",
    "    answer = inputs['answers']['text']\n",
    "    encoded = tf.py_function(encode, [context, question, answer], \n",
    "                                           [tf.int32, tf.int32, tf.int32, tf.int32])\n",
    "    input_ids,input_attention, target_ids,target_attention = encoded\n",
    "    input_ids.set_shape([None])\n",
    "    target_ids.set_shape([None])\n",
    "    input_attention.set_shape([None])\n",
    "    target_attention.set_shape([None])\n",
    "    \n",
    "    labels = tf.reshape(target_ids, [-1, 1])\n",
    "    data=  {'input_ids': input_ids, #'decoder_input_ids': target_ids, \n",
    "            'labels': target_ids, \n",
    "            'attention_mask': input_attention,\n",
    "           'decoder_attention_mask': target_attention}\n",
    "    return (data, labels)\n"
   ]
  },
  {
   "cell_type": "code",
   "execution_count": 12,
   "metadata": {
    "colab": {},
    "colab_type": "code",
    "id": "LUKypEaSDXOd"
   },
   "outputs": [],
   "source": [
    "def create_dataset(source_dataset, cache_path=None, batch_size=4, \n",
    "                   buffer_size= 1000, shuffling=True):\n",
    "    dataset = source_dataset.map(encode_tf, num_parallel_calls=tf.data.experimental.AUTOTUNE)\n",
    "    \n",
    "    if cache_path is not None:\n",
    "        dataset = dataset.cache(cache_path)        \n",
    "    if shuffling:\n",
    "        dataset = dataset.shuffle(buffer_size)\n",
    "    dataset = dataset.batch(batch_size)\n",
    "    dataset = dataset.prefetch(tf.data.experimental.AUTOTUNE)\n",
    "    return dataset\n",
    "    "
   ]
  },
  {
   "cell_type": "code",
   "execution_count": 13,
   "metadata": {
    "colab": {},
    "colab_type": "code",
    "id": "nNiNtnsHDXOf"
   },
   "outputs": [],
   "source": [
    "train_ds= create_dataset(train_dataset, batch_size=batch_size, \n",
    "                         shuffling=True, cache_path = None)\n",
    "valid_ds = create_dataset(valid_dataset, batch_size=batch_size, \n",
    "                         shuffling=False, cache_path = None)\n"
   ]
  },
  {
   "cell_type": "code",
   "execution_count": 14,
   "metadata": {
    "colab": {},
    "colab_type": "code",
    "id": "KL9VfwI6DXOh",
    "outputId": "09cd331a-338c-43c7-d0cd-1a22e685232a",
    "scrolled": true
   },
   "outputs": [
    {
     "name": "stderr",
     "output_type": "stream",
     "text": [
      "/home/ml/anaconda3/envs/hugging/lib/python3.7/site-packages/transformers/tokenization_utils_base.py:1768: FutureWarning: The `pad_to_max_length` argument is deprecated and will be removed in a future version, use `padding=True` or `padding='longest'` to pad to the longest sequence in the batch, or use `padding='max_length'` to pad to a max length. In this case, you can give a specific length with `max_length` (e.g. `max_length=45`) or leave max_length to None to pad to the maximal input size of the model (e.g. 512 for Bert).\n",
      "  FutureWarning,\n"
     ]
    },
    {
     "data": {
      "text/plain": [
       "({'input_ids': <tf.Tensor: shape=(4, 100), dtype=int32, numpy=\n",
       "  array([[ 1525,   834,   526,    10,   571,   231,    47,     8,     3,\n",
       "          15829,  6878,    53,  1154,    28,     8,  6552,  3815,  1494,\n",
       "             16,  1230,    58,  2625,    10,    37,  6552,  3815,    19,\n",
       "           6878,    16,     8,   907,  1323,   190,     3, 15829,  5716,\n",
       "              5,  6552,  3815, 17831,  2009,    65,  1936,  7313,     6,\n",
       "             28,     3, 15829,    11,     3, 15829,  8544,     3,     9,\n",
       "          23980,     3,     9,  1368, 10635, 23938, 13569,    16,     8,\n",
       "           1412,   104,  1808,   774,     6,    95,   850,  5953,    45,\n",
       "           1673,   104,  2368,   116,  2591,   341,     3,  2378,    26,\n",
       "             30,  7547, 23375,    11, 25043,    87, 26130,   567,   357,\n",
       "           4743, 13922, 13569,   201,    11,     3, 15829,  5716,    65,\n",
       "            118],\n",
       "         [ 1525,   834,   526,    10,  4073,  3262,  8996,    16, 26660,\n",
       "             19,   801,    12,    36,     3,     9,   234,    21,     3,\n",
       "          10673,    52,  6546,  6331,    58,  2625,    10, 26660,    31,\n",
       "              7, 17721,    11,     8,     3,     7,  8745,    53,  7572,\n",
       "             13,   165,   731,    18,   120,    53, 11787,   370, 11341,\n",
       "             21,    46, 19075,    13,     3,    89,   322,     9,    11,\n",
       "          29908,     5,    37,  5827,  1719,    16,    11,   300,     8,\n",
       "            690, 18253,    15,     7,   844,    13, 19517,    11, 11432,\n",
       "           3172,     6,    84,    33, 18570,    16,     8,   607,    13,\n",
       "           1157,  9307,     6,     3,   172,    32,    32,     7,     6,\n",
       "           3016,    18,   172,    32,    32,     7,    11,     3,     9,\n",
       "           9106],\n",
       "         [ 1525,   834,   526,    10,   125,    47, 11016,  5811,     7,\n",
       "             40,   232,    31,     7,  1075,    16,   789,    58,  2625,\n",
       "             10,    37,  2015,  5919,    13,  3452,  2061,    16, 19201,\n",
       "            741,    15,    26,    45,     3,     9,  1291,  1357,  1026,\n",
       "             16, 19201,    57, 11016,  5811,     7,    40,   232,     6,\n",
       "           7471,    13,  1015,    21,  2855,    16,     8, 18969,   104,\n",
       "           2294,  2518, 16117,   789,     5,    37,  1291,  1357,    47,\n",
       "           6960,    57, 13054,  4866,   335,    87,  4122,     6,    46,\n",
       "           8033,    12,   415,  1073,  5779,    12,   515,    21,  6113,\n",
       "              5,  4375,     3,     7,   144,     8,   850,  1220,  6498,\n",
       "             16,    70,   336,   215,    13,  2329,  1073,    11,   130,\n",
       "           1622],\n",
       "         [ 1525,   834,   526,    10,   363,   686,    13,   723,   405,\n",
       "            925, 17363,    32,  1912,    58,  2625,    10,    37, 18715,\n",
       "             29, 21849, 10812,    15,  2953, 14047,     3,    15, 10673,\n",
       "           2661,    24,  2237,    12,     8,  7025,    13, 18715,    29,\n",
       "              7,    16,   796,  1440,    16,     8,   296,     5, 18715,\n",
       "             29,     7,  2697,    12,    70, 10822,    11,   824,  1227,\n",
       "              9, 11842,  3247,  4659,    12, 10393,    28,    70,   723,\n",
       "              5,    86,     8,   442,    18, 13714,    32, 10812,    15,\n",
       "          18715,    29,   573,    13,     8,   907,  1323,     6,     8,\n",
       "             78,    18,  9341,    96,  1050,    89,   121,   869, 18715,\n",
       "             29,  2595,   723,     6,   338, 18715,    29,    11,  4551,\n",
       "           7345]], dtype=int32)>,\n",
       "  'labels': <tf.Tensor: shape=(4, 100), dtype=int32, numpy=\n",
       "  array([[ 1970,  2108,     1,     0,     0,     0,     0,     0,     0,\n",
       "              0,     0,     0,     0,     0,     0,     0,     0,     0,\n",
       "              0,     0,     0,     0,     0,     0,     0,     0,     0,\n",
       "              0,     0,     0,     0,     0,     0,     0,     0,     0,\n",
       "              0,     0,     0,     0,     0,     0,     0,     0,     0,\n",
       "              0,     0,     0,     0,     0,     0,     0,     0,     0,\n",
       "              0,     0,     0,     0,     0,     0,     0,     0,     0,\n",
       "              0,     0,     0,     0,     0,     0,     0,     0,     0,\n",
       "              0,     0,     0,     0,     0,     0,     0,     0,     0,\n",
       "              0,     0,     0,     0,     0,     0,     0,     0,     0,\n",
       "              0,     0,     0,     0,     0,     0,     0,     0,     0,\n",
       "              0],\n",
       "         [ 5192,   152,  1703,    76,  2154,     1,     0,     0,     0,\n",
       "              0,     0,     0,     0,     0,     0,     0,     0,     0,\n",
       "              0,     0,     0,     0,     0,     0,     0,     0,     0,\n",
       "              0,     0,     0,     0,     0,     0,     0,     0,     0,\n",
       "              0,     0,     0,     0,     0,     0,     0,     0,     0,\n",
       "              0,     0,     0,     0,     0,     0,     0,     0,     0,\n",
       "              0,     0,     0,     0,     0,     0,     0,     0,     0,\n",
       "              0,     0,     0,     0,     0,     0,     0,     0,     0,\n",
       "              0,     0,     0,     0,     0,     0,     0,     0,     0,\n",
       "              0,     0,     0,     0,     0,     0,     0,     0,     0,\n",
       "              0,     0,     0,     0,     0,     0,     0,     0,     0,\n",
       "              0],\n",
       "         [ 7471,    13,  1015,    21,  2855,     1,     0,     0,     0,\n",
       "              0,     0,     0,     0,     0,     0,     0,     0,     0,\n",
       "              0,     0,     0,     0,     0,     0,     0,     0,     0,\n",
       "              0,     0,     0,     0,     0,     0,     0,     0,     0,\n",
       "              0,     0,     0,     0,     0,     0,     0,     0,     0,\n",
       "              0,     0,     0,     0,     0,     0,     0,     0,     0,\n",
       "              0,     0,     0,     0,     0,     0,     0,     0,     0,\n",
       "              0,     0,     0,     0,     0,     0,     0,     0,     0,\n",
       "              0,     0,     0,     0,     0,     0,     0,     0,     0,\n",
       "              0,     0,     0,     0,     0,     0,     0,     0,     0,\n",
       "              0,     0,     0,     0,     0,     0,     0,     0,     0,\n",
       "              0],\n",
       "         [ 2783,   723,  3334,    28, 18715,    29, 12702,   723,     1,\n",
       "              0,     0,     0,     0,     0,     0,     0,     0,     0,\n",
       "              0,     0,     0,     0,     0,     0,     0,     0,     0,\n",
       "              0,     0,     0,     0,     0,     0,     0,     0,     0,\n",
       "              0,     0,     0,     0,     0,     0,     0,     0,     0,\n",
       "              0,     0,     0,     0,     0,     0,     0,     0,     0,\n",
       "              0,     0,     0,     0,     0,     0,     0,     0,     0,\n",
       "              0,     0,     0,     0,     0,     0,     0,     0,     0,\n",
       "              0,     0,     0,     0,     0,     0,     0,     0,     0,\n",
       "              0,     0,     0,     0,     0,     0,     0,     0,     0,\n",
       "              0,     0,     0,     0,     0,     0,     0,     0,     0,\n",
       "              0]], dtype=int32)>,\n",
       "  'attention_mask': <tf.Tensor: shape=(4, 100), dtype=int32, numpy=\n",
       "  array([[1, 1, 1, 1, 1, 1, 1, 1, 1, 1, 1, 1, 1, 1, 1, 1, 1, 1, 1, 1, 1, 1,\n",
       "          1, 1, 1, 1, 1, 1, 1, 1, 1, 1, 1, 1, 1, 1, 1, 1, 1, 1, 1, 1, 1, 1,\n",
       "          1, 1, 1, 1, 1, 1, 1, 1, 1, 1, 1, 1, 1, 1, 1, 1, 1, 1, 1, 1, 1, 1,\n",
       "          1, 1, 1, 1, 1, 1, 1, 1, 1, 1, 1, 1, 1, 1, 1, 1, 1, 1, 1, 1, 1, 1,\n",
       "          1, 1, 1, 1, 1, 1, 1, 1, 1, 1, 1, 1],\n",
       "         [1, 1, 1, 1, 1, 1, 1, 1, 1, 1, 1, 1, 1, 1, 1, 1, 1, 1, 1, 1, 1, 1,\n",
       "          1, 1, 1, 1, 1, 1, 1, 1, 1, 1, 1, 1, 1, 1, 1, 1, 1, 1, 1, 1, 1, 1,\n",
       "          1, 1, 1, 1, 1, 1, 1, 1, 1, 1, 1, 1, 1, 1, 1, 1, 1, 1, 1, 1, 1, 1,\n",
       "          1, 1, 1, 1, 1, 1, 1, 1, 1, 1, 1, 1, 1, 1, 1, 1, 1, 1, 1, 1, 1, 1,\n",
       "          1, 1, 1, 1, 1, 1, 1, 1, 1, 1, 1, 1],\n",
       "         [1, 1, 1, 1, 1, 1, 1, 1, 1, 1, 1, 1, 1, 1, 1, 1, 1, 1, 1, 1, 1, 1,\n",
       "          1, 1, 1, 1, 1, 1, 1, 1, 1, 1, 1, 1, 1, 1, 1, 1, 1, 1, 1, 1, 1, 1,\n",
       "          1, 1, 1, 1, 1, 1, 1, 1, 1, 1, 1, 1, 1, 1, 1, 1, 1, 1, 1, 1, 1, 1,\n",
       "          1, 1, 1, 1, 1, 1, 1, 1, 1, 1, 1, 1, 1, 1, 1, 1, 1, 1, 1, 1, 1, 1,\n",
       "          1, 1, 1, 1, 1, 1, 1, 1, 1, 1, 1, 1],\n",
       "         [1, 1, 1, 1, 1, 1, 1, 1, 1, 1, 1, 1, 1, 1, 1, 1, 1, 1, 1, 1, 1, 1,\n",
       "          1, 1, 1, 1, 1, 1, 1, 1, 1, 1, 1, 1, 1, 1, 1, 1, 1, 1, 1, 1, 1, 1,\n",
       "          1, 1, 1, 1, 1, 1, 1, 1, 1, 1, 1, 1, 1, 1, 1, 1, 1, 1, 1, 1, 1, 1,\n",
       "          1, 1, 1, 1, 1, 1, 1, 1, 1, 1, 1, 1, 1, 1, 1, 1, 1, 1, 1, 1, 1, 1,\n",
       "          1, 1, 1, 1, 1, 1, 1, 1, 1, 1, 1, 1]], dtype=int32)>,\n",
       "  'decoder_attention_mask': <tf.Tensor: shape=(4, 100), dtype=int32, numpy=\n",
       "  array([[1, 1, 1, 0, 0, 0, 0, 0, 0, 0, 0, 0, 0, 0, 0, 0, 0, 0, 0, 0, 0, 0,\n",
       "          0, 0, 0, 0, 0, 0, 0, 0, 0, 0, 0, 0, 0, 0, 0, 0, 0, 0, 0, 0, 0, 0,\n",
       "          0, 0, 0, 0, 0, 0, 0, 0, 0, 0, 0, 0, 0, 0, 0, 0, 0, 0, 0, 0, 0, 0,\n",
       "          0, 0, 0, 0, 0, 0, 0, 0, 0, 0, 0, 0, 0, 0, 0, 0, 0, 0, 0, 0, 0, 0,\n",
       "          0, 0, 0, 0, 0, 0, 0, 0, 0, 0, 0, 0],\n",
       "         [1, 1, 1, 1, 1, 1, 0, 0, 0, 0, 0, 0, 0, 0, 0, 0, 0, 0, 0, 0, 0, 0,\n",
       "          0, 0, 0, 0, 0, 0, 0, 0, 0, 0, 0, 0, 0, 0, 0, 0, 0, 0, 0, 0, 0, 0,\n",
       "          0, 0, 0, 0, 0, 0, 0, 0, 0, 0, 0, 0, 0, 0, 0, 0, 0, 0, 0, 0, 0, 0,\n",
       "          0, 0, 0, 0, 0, 0, 0, 0, 0, 0, 0, 0, 0, 0, 0, 0, 0, 0, 0, 0, 0, 0,\n",
       "          0, 0, 0, 0, 0, 0, 0, 0, 0, 0, 0, 0],\n",
       "         [1, 1, 1, 1, 1, 1, 0, 0, 0, 0, 0, 0, 0, 0, 0, 0, 0, 0, 0, 0, 0, 0,\n",
       "          0, 0, 0, 0, 0, 0, 0, 0, 0, 0, 0, 0, 0, 0, 0, 0, 0, 0, 0, 0, 0, 0,\n",
       "          0, 0, 0, 0, 0, 0, 0, 0, 0, 0, 0, 0, 0, 0, 0, 0, 0, 0, 0, 0, 0, 0,\n",
       "          0, 0, 0, 0, 0, 0, 0, 0, 0, 0, 0, 0, 0, 0, 0, 0, 0, 0, 0, 0, 0, 0,\n",
       "          0, 0, 0, 0, 0, 0, 0, 0, 0, 0, 0, 0],\n",
       "         [1, 1, 1, 1, 1, 1, 1, 1, 1, 0, 0, 0, 0, 0, 0, 0, 0, 0, 0, 0, 0, 0,\n",
       "          0, 0, 0, 0, 0, 0, 0, 0, 0, 0, 0, 0, 0, 0, 0, 0, 0, 0, 0, 0, 0, 0,\n",
       "          0, 0, 0, 0, 0, 0, 0, 0, 0, 0, 0, 0, 0, 0, 0, 0, 0, 0, 0, 0, 0, 0,\n",
       "          0, 0, 0, 0, 0, 0, 0, 0, 0, 0, 0, 0, 0, 0, 0, 0, 0, 0, 0, 0, 0, 0,\n",
       "          0, 0, 0, 0, 0, 0, 0, 0, 0, 0, 0, 0]], dtype=int32)>},\n",
       " <tf.Tensor: shape=(4, 100, 1), dtype=int32, numpy=\n",
       " array([[[ 1970],\n",
       "         [ 2108],\n",
       "         [    1],\n",
       "         [    0],\n",
       "         [    0],\n",
       "         [    0],\n",
       "         [    0],\n",
       "         [    0],\n",
       "         [    0],\n",
       "         [    0],\n",
       "         [    0],\n",
       "         [    0],\n",
       "         [    0],\n",
       "         [    0],\n",
       "         [    0],\n",
       "         [    0],\n",
       "         [    0],\n",
       "         [    0],\n",
       "         [    0],\n",
       "         [    0],\n",
       "         [    0],\n",
       "         [    0],\n",
       "         [    0],\n",
       "         [    0],\n",
       "         [    0],\n",
       "         [    0],\n",
       "         [    0],\n",
       "         [    0],\n",
       "         [    0],\n",
       "         [    0],\n",
       "         [    0],\n",
       "         [    0],\n",
       "         [    0],\n",
       "         [    0],\n",
       "         [    0],\n",
       "         [    0],\n",
       "         [    0],\n",
       "         [    0],\n",
       "         [    0],\n",
       "         [    0],\n",
       "         [    0],\n",
       "         [    0],\n",
       "         [    0],\n",
       "         [    0],\n",
       "         [    0],\n",
       "         [    0],\n",
       "         [    0],\n",
       "         [    0],\n",
       "         [    0],\n",
       "         [    0],\n",
       "         [    0],\n",
       "         [    0],\n",
       "         [    0],\n",
       "         [    0],\n",
       "         [    0],\n",
       "         [    0],\n",
       "         [    0],\n",
       "         [    0],\n",
       "         [    0],\n",
       "         [    0],\n",
       "         [    0],\n",
       "         [    0],\n",
       "         [    0],\n",
       "         [    0],\n",
       "         [    0],\n",
       "         [    0],\n",
       "         [    0],\n",
       "         [    0],\n",
       "         [    0],\n",
       "         [    0],\n",
       "         [    0],\n",
       "         [    0],\n",
       "         [    0],\n",
       "         [    0],\n",
       "         [    0],\n",
       "         [    0],\n",
       "         [    0],\n",
       "         [    0],\n",
       "         [    0],\n",
       "         [    0],\n",
       "         [    0],\n",
       "         [    0],\n",
       "         [    0],\n",
       "         [    0],\n",
       "         [    0],\n",
       "         [    0],\n",
       "         [    0],\n",
       "         [    0],\n",
       "         [    0],\n",
       "         [    0],\n",
       "         [    0],\n",
       "         [    0],\n",
       "         [    0],\n",
       "         [    0],\n",
       "         [    0],\n",
       "         [    0],\n",
       "         [    0],\n",
       "         [    0],\n",
       "         [    0],\n",
       "         [    0]],\n",
       " \n",
       "        [[ 5192],\n",
       "         [  152],\n",
       "         [ 1703],\n",
       "         [   76],\n",
       "         [ 2154],\n",
       "         [    1],\n",
       "         [    0],\n",
       "         [    0],\n",
       "         [    0],\n",
       "         [    0],\n",
       "         [    0],\n",
       "         [    0],\n",
       "         [    0],\n",
       "         [    0],\n",
       "         [    0],\n",
       "         [    0],\n",
       "         [    0],\n",
       "         [    0],\n",
       "         [    0],\n",
       "         [    0],\n",
       "         [    0],\n",
       "         [    0],\n",
       "         [    0],\n",
       "         [    0],\n",
       "         [    0],\n",
       "         [    0],\n",
       "         [    0],\n",
       "         [    0],\n",
       "         [    0],\n",
       "         [    0],\n",
       "         [    0],\n",
       "         [    0],\n",
       "         [    0],\n",
       "         [    0],\n",
       "         [    0],\n",
       "         [    0],\n",
       "         [    0],\n",
       "         [    0],\n",
       "         [    0],\n",
       "         [    0],\n",
       "         [    0],\n",
       "         [    0],\n",
       "         [    0],\n",
       "         [    0],\n",
       "         [    0],\n",
       "         [    0],\n",
       "         [    0],\n",
       "         [    0],\n",
       "         [    0],\n",
       "         [    0],\n",
       "         [    0],\n",
       "         [    0],\n",
       "         [    0],\n",
       "         [    0],\n",
       "         [    0],\n",
       "         [    0],\n",
       "         [    0],\n",
       "         [    0],\n",
       "         [    0],\n",
       "         [    0],\n",
       "         [    0],\n",
       "         [    0],\n",
       "         [    0],\n",
       "         [    0],\n",
       "         [    0],\n",
       "         [    0],\n",
       "         [    0],\n",
       "         [    0],\n",
       "         [    0],\n",
       "         [    0],\n",
       "         [    0],\n",
       "         [    0],\n",
       "         [    0],\n",
       "         [    0],\n",
       "         [    0],\n",
       "         [    0],\n",
       "         [    0],\n",
       "         [    0],\n",
       "         [    0],\n",
       "         [    0],\n",
       "         [    0],\n",
       "         [    0],\n",
       "         [    0],\n",
       "         [    0],\n",
       "         [    0],\n",
       "         [    0],\n",
       "         [    0],\n",
       "         [    0],\n",
       "         [    0],\n",
       "         [    0],\n",
       "         [    0],\n",
       "         [    0],\n",
       "         [    0],\n",
       "         [    0],\n",
       "         [    0],\n",
       "         [    0],\n",
       "         [    0],\n",
       "         [    0],\n",
       "         [    0],\n",
       "         [    0]],\n",
       " \n",
       "        [[ 7471],\n",
       "         [   13],\n",
       "         [ 1015],\n",
       "         [   21],\n",
       "         [ 2855],\n",
       "         [    1],\n",
       "         [    0],\n",
       "         [    0],\n",
       "         [    0],\n",
       "         [    0],\n",
       "         [    0],\n",
       "         [    0],\n",
       "         [    0],\n",
       "         [    0],\n",
       "         [    0],\n",
       "         [    0],\n",
       "         [    0],\n",
       "         [    0],\n",
       "         [    0],\n",
       "         [    0],\n",
       "         [    0],\n",
       "         [    0],\n",
       "         [    0],\n",
       "         [    0],\n",
       "         [    0],\n",
       "         [    0],\n",
       "         [    0],\n",
       "         [    0],\n",
       "         [    0],\n",
       "         [    0],\n",
       "         [    0],\n",
       "         [    0],\n",
       "         [    0],\n",
       "         [    0],\n",
       "         [    0],\n",
       "         [    0],\n",
       "         [    0],\n",
       "         [    0],\n",
       "         [    0],\n",
       "         [    0],\n",
       "         [    0],\n",
       "         [    0],\n",
       "         [    0],\n",
       "         [    0],\n",
       "         [    0],\n",
       "         [    0],\n",
       "         [    0],\n",
       "         [    0],\n",
       "         [    0],\n",
       "         [    0],\n",
       "         [    0],\n",
       "         [    0],\n",
       "         [    0],\n",
       "         [    0],\n",
       "         [    0],\n",
       "         [    0],\n",
       "         [    0],\n",
       "         [    0],\n",
       "         [    0],\n",
       "         [    0],\n",
       "         [    0],\n",
       "         [    0],\n",
       "         [    0],\n",
       "         [    0],\n",
       "         [    0],\n",
       "         [    0],\n",
       "         [    0],\n",
       "         [    0],\n",
       "         [    0],\n",
       "         [    0],\n",
       "         [    0],\n",
       "         [    0],\n",
       "         [    0],\n",
       "         [    0],\n",
       "         [    0],\n",
       "         [    0],\n",
       "         [    0],\n",
       "         [    0],\n",
       "         [    0],\n",
       "         [    0],\n",
       "         [    0],\n",
       "         [    0],\n",
       "         [    0],\n",
       "         [    0],\n",
       "         [    0],\n",
       "         [    0],\n",
       "         [    0],\n",
       "         [    0],\n",
       "         [    0],\n",
       "         [    0],\n",
       "         [    0],\n",
       "         [    0],\n",
       "         [    0],\n",
       "         [    0],\n",
       "         [    0],\n",
       "         [    0],\n",
       "         [    0],\n",
       "         [    0],\n",
       "         [    0],\n",
       "         [    0]],\n",
       " \n",
       "        [[ 2783],\n",
       "         [  723],\n",
       "         [ 3334],\n",
       "         [   28],\n",
       "         [18715],\n",
       "         [   29],\n",
       "         [12702],\n",
       "         [  723],\n",
       "         [    1],\n",
       "         [    0],\n",
       "         [    0],\n",
       "         [    0],\n",
       "         [    0],\n",
       "         [    0],\n",
       "         [    0],\n",
       "         [    0],\n",
       "         [    0],\n",
       "         [    0],\n",
       "         [    0],\n",
       "         [    0],\n",
       "         [    0],\n",
       "         [    0],\n",
       "         [    0],\n",
       "         [    0],\n",
       "         [    0],\n",
       "         [    0],\n",
       "         [    0],\n",
       "         [    0],\n",
       "         [    0],\n",
       "         [    0],\n",
       "         [    0],\n",
       "         [    0],\n",
       "         [    0],\n",
       "         [    0],\n",
       "         [    0],\n",
       "         [    0],\n",
       "         [    0],\n",
       "         [    0],\n",
       "         [    0],\n",
       "         [    0],\n",
       "         [    0],\n",
       "         [    0],\n",
       "         [    0],\n",
       "         [    0],\n",
       "         [    0],\n",
       "         [    0],\n",
       "         [    0],\n",
       "         [    0],\n",
       "         [    0],\n",
       "         [    0],\n",
       "         [    0],\n",
       "         [    0],\n",
       "         [    0],\n",
       "         [    0],\n",
       "         [    0],\n",
       "         [    0],\n",
       "         [    0],\n",
       "         [    0],\n",
       "         [    0],\n",
       "         [    0],\n",
       "         [    0],\n",
       "         [    0],\n",
       "         [    0],\n",
       "         [    0],\n",
       "         [    0],\n",
       "         [    0],\n",
       "         [    0],\n",
       "         [    0],\n",
       "         [    0],\n",
       "         [    0],\n",
       "         [    0],\n",
       "         [    0],\n",
       "         [    0],\n",
       "         [    0],\n",
       "         [    0],\n",
       "         [    0],\n",
       "         [    0],\n",
       "         [    0],\n",
       "         [    0],\n",
       "         [    0],\n",
       "         [    0],\n",
       "         [    0],\n",
       "         [    0],\n",
       "         [    0],\n",
       "         [    0],\n",
       "         [    0],\n",
       "         [    0],\n",
       "         [    0],\n",
       "         [    0],\n",
       "         [    0],\n",
       "         [    0],\n",
       "         [    0],\n",
       "         [    0],\n",
       "         [    0],\n",
       "         [    0],\n",
       "         [    0],\n",
       "         [    0],\n",
       "         [    0],\n",
       "         [    0],\n",
       "         [    0]]], dtype=int32)>)"
      ]
     },
     "execution_count": 14,
     "metadata": {},
     "output_type": "execute_result"
    }
   ],
   "source": [
    "data = next(iter(train_ds))\n",
    "data"
   ]
  },
  {
   "cell_type": "code",
   "execution_count": 16,
   "metadata": {
    "colab": {},
    "colab_type": "code",
    "id": "xHq71CTDDXOn"
   },
   "outputs": [],
   "source": [
    "class CustomSchedule(tf.keras.optimizers.schedules.LearningRateSchedule):\n",
    "  def __init__(self, warmup_steps=1e4, schedule=True, initial_lr = 1e-3):\n",
    "    super().__init__()\n",
    "\n",
    "    self.warmup_steps = tf.cast(warmup_steps, tf.float32)\n",
    "    \n",
    "  def __call__(self, step):\n",
    "    step = tf.cast(step, tf.float32)\n",
    "    m = tf.maximum(self.warmup_steps, step)\n",
    "    m = tf.cast(m, tf.float32)\n",
    "    lr = tf.math.rsqrt(m)\n",
    "    \n",
    "    return lr \n",
    "        "
   ]
  },
  {
   "cell_type": "code",
   "execution_count": 17,
   "metadata": {
    "colab": {},
    "colab_type": "code",
    "id": "G6-LcG6TDXOt",
    "outputId": "26461795-21ed-418e-d843-415152d291ec"
   },
   "outputs": [
    {
     "data": {
      "text/plain": [
       "Text(0, 0.5, 'Learning rate')"
      ]
     },
     "execution_count": 17,
     "metadata": {},
     "output_type": "execute_result"
    },
    {
     "data": {
      "image/png": "[encoded data removed]",
      "text/plain": [
       "<Figure size 432x288 with 1 Axes>"
      ]
     },
     "metadata": {},
     "output_type": "display_data"
    }
   ],
   "source": [
    "plt.style.use('ggplot')\n",
    "schedule = CustomSchedule()\n",
    "plt.plot(schedule(tf.range(25000, dtype=tf.float32)))\n",
    "plt.xlabel(\"Steps\")\n",
    "plt.ylabel(\"Learning rate\")"
   ]
  },
  {
   "cell_type": "markdown",
   "metadata": {},
   "source": [
    "### Callbacks"
   ]
  },
  {
   "cell_type": "code",
   "execution_count": 18,
   "metadata": {
    "colab": {},
    "colab_type": "code",
    "id": "rA9OVe28DXOq"
   },
   "outputs": [],
   "source": [
    "start_profile_batch = steps+10\n",
    "stop_profile_batch = start_profile_batch + 100\n",
    "profile_range = f\"{start_profile_batch},{stop_profile_batch}\"\n",
    "\n",
    "log_path = log_dir + \"/\" + datetime.datetime.now().strftime(\"%Y-%m-%d_%H:%M:%S\")\n",
    "tensorboard_callback = tf.keras.callbacks.TensorBoard(log_dir=log_path, histogram_freq=1,\n",
    "                                                     update_freq=20,profile_batch=profile_range)\n",
    "\n",
    "checkpoint_filepath = save_path + \"/\" + \"T5-{epoch:04d}-{val_loss:.4f}.ckpt\"\n",
    "model_checkpoint_callback = tf.keras.callbacks.ModelCheckpoint(\n",
    "    filepath=checkpoint_filepath,\n",
    "    save_weights_only=False,\n",
    "    monitor='val_loss',\n",
    "    mode='min',\n",
    "    save_best_only=True)\n",
    "\n",
    "callbacks = [tensorboard_callback, model_checkpoint_callback] \n",
    "metrics = [tf.keras.metrics.SparseTopKCategoricalAccuracy(name='accuracy') ]"
   ]
  },
  {
   "cell_type": "code",
   "execution_count": 19,
   "metadata": {
    "colab": {},
    "colab_type": "code",
    "id": "SX_CQGhoDXOw"
   },
   "outputs": [],
   "source": [
    "learning_rate = CustomSchedule()\n",
    "# learning_rate = 0.001\n",
    "optimizer = tf.keras.optimizers.Adam(learning_rate)"
   ]
  },
  {
   "cell_type": "code",
   "execution_count": null,
   "metadata": {
    "colab": {},
    "colab_type": "code",
    "id": "J2vcCZyyDXOy"
   },
   "outputs": [],
   "source": []
  },
  {
   "cell_type": "code",
   "execution_count": 20,
   "metadata": {
    "colab": {},
    "colab_type": "code",
    "id": "AZym7SmWDXO0",
    "outputId": "a2d7251a-59e9-4058-ef95-cde31265c8e2"
   },
   "outputs": [
    {
     "name": "stderr",
     "output_type": "stream",
     "text": [
      "WARNING:transformers.modeling_tf_utils:All model checkpoint weights were used when initializing SnapthatT5.\n",
      "\n",
      "WARNING:transformers.modeling_tf_utils:Some weights of SnapthatT5 were not initialized from the model checkpoint at t5-base and are newly initialized: ['loss']\n",
      "You should probably TRAIN this model on a down-stream task to be able to use it for predictions and inference.\n"
     ]
    }
   ],
   "source": [
    "model = SnapthatT5.from_pretrained(\"t5-base\")"
   ]
  },
  {
   "cell_type": "code",
   "execution_count": 21,
   "metadata": {
    "colab": {},
    "colab_type": "code",
    "id": "z_QxL8gPDXO1"
   },
   "outputs": [],
   "source": [
    "model.compile(optimizer=optimizer, metrics=metrics)"
   ]
  },
  {
   "cell_type": "code",
   "execution_count": 22,
   "metadata": {
    "colab": {},
    "colab_type": "code",
    "id": "x8QOVpFxDXO5",
    "outputId": "9e187954-459a-4770-f383-a1501b21e90f",
    "scrolled": true
   },
   "outputs": [
    {
     "name": "stdout",
     "output_type": "stream",
     "text": [
      "Epoch 1/50\n"
     ]
    },
    {
     "name": "stderr",
     "output_type": "stream",
     "text": [
      "/home/ml/anaconda3/envs/hugging/lib/python3.7/site-packages/tensorflow/python/framework/indexed_slices.py:433: UserWarning: Converting sparse IndexedSlices to a dense Tensor of unknown shape. This may consume a large amount of memory.\n",
      "  \"Converting sparse IndexedSlices to a dense Tensor of unknown shape. \"\n",
      "/home/ml/anaconda3/envs/hugging/lib/python3.7/site-packages/transformers/tokenization_utils_base.py:1768: FutureWarning: The `pad_to_max_length` argument is deprecated and will be removed in a future version, use `padding=True` or `padding='longest'` to pad to the longest sequence in the batch, or use `padding='max_length'` to pad to a max length. In this case, you can give a specific length with `max_length` (e.g. `max_length=45`) or leave max_length to None to pad to the maximal input size of the model (e.g. 512 for Bert).\n",
      "  FutureWarning,\n"
     ]
    },
    {
     "name": "stdout",
     "output_type": "stream",
     "text": [
      "21900/21900 [==============================] - 9771s 446ms/step - accuracy: 0.9571 - loss: 0.4131 - lr: 0.0089 - val_accuracy: 0.8610 - val_loss: 1.3091\n",
      "Epoch 2/50\n",
      "  109/21900 [..............................] - ETA: 2:36:47 - accuracy: 0.9571 - loss: 0.4001 - lr: 0.0067WARNING:tensorflow:From /home/ml/anaconda3/envs/hugging/lib/python3.7/site-packages/tensorflow/python/ops/summary_ops_v2.py:1277: stop (from tensorflow.python.eager.profiler) is deprecated and will be removed after 2020-07-01.\n",
      "Instructions for updating:\n",
      "use `tf.profiler.experimental.stop` instead.\n"
     ]
    },
    {
     "name": "stderr",
     "output_type": "stream",
     "text": [
      "WARNING:tensorflow:From /home/ml/anaconda3/envs/hugging/lib/python3.7/site-packages/tensorflow/python/ops/summary_ops_v2.py:1277: stop (from tensorflow.python.eager.profiler) is deprecated and will be removed after 2020-07-01.\n",
      "Instructions for updating:\n",
      "use `tf.profiler.experimental.stop` instead.\n"
     ]
    },
    {
     "name": "stdout",
     "output_type": "stream",
     "text": [
      " 8291/21900 [==========>...................] - ETA: 1:38:46 - accuracy: 0.9575 - loss: 0.4015 - lr: 0.0062"
     ]
    },
    {
     "ename": "KeyboardInterrupt",
     "evalue": "",
     "output_type": "error",
     "traceback": [
      "\u001b[0;31m---------------------------------------------------------------------------\u001b[0m",
      "\u001b[0;31mKeyboardInterrupt\u001b[0m                         Traceback (most recent call last)",
      "\u001b[0;32m<ipython-input-22-1e56b2793c49>\u001b[0m in \u001b[0;36m<module>\u001b[0;34m\u001b[0m\n\u001b[1;32m      1\u001b[0m \u001b[0mepochs_done\u001b[0m \u001b[0;34m=\u001b[0m \u001b[0;36m0\u001b[0m\u001b[0;34m\u001b[0m\u001b[0m\n\u001b[1;32m      2\u001b[0m model.fit(train_ds, epochs=50, steps_per_epoch=steps, callbacks=callbacks, \n\u001b[0;32m----> 3\u001b[0;31m           validation_data=valid_ds, validation_steps=valid_steps, initial_epoch=epochs_done)\n\u001b[0m",
      "\u001b[0;32m~/anaconda3/envs/hugging/lib/python3.7/site-packages/tensorflow/python/keras/engine/training.py\u001b[0m in \u001b[0;36m_method_wrapper\u001b[0;34m(self, *args, **kwargs)\u001b[0m\n\u001b[1;32m    106\u001b[0m   \u001b[0;32mdef\u001b[0m \u001b[0m_method_wrapper\u001b[0m\u001b[0;34m(\u001b[0m\u001b[0mself\u001b[0m\u001b[0;34m,\u001b[0m \u001b[0;34m*\u001b[0m\u001b[0margs\u001b[0m\u001b[0;34m,\u001b[0m \u001b[0;34m**\u001b[0m\u001b[0mkwargs\u001b[0m\u001b[0;34m)\u001b[0m\u001b[0;34m:\u001b[0m\u001b[0;34m\u001b[0m\u001b[0m\n\u001b[1;32m    107\u001b[0m     \u001b[0;32mif\u001b[0m \u001b[0;32mnot\u001b[0m \u001b[0mself\u001b[0m\u001b[0;34m.\u001b[0m\u001b[0m_in_multi_worker_mode\u001b[0m\u001b[0;34m(\u001b[0m\u001b[0;34m)\u001b[0m\u001b[0;34m:\u001b[0m  \u001b[0;31m# pylint: disable=protected-access\u001b[0m\u001b[0;34m\u001b[0m\u001b[0m\n\u001b[0;32m--> 108\u001b[0;31m       \u001b[0;32mreturn\u001b[0m \u001b[0mmethod\u001b[0m\u001b[0;34m(\u001b[0m\u001b[0mself\u001b[0m\u001b[0;34m,\u001b[0m \u001b[0;34m*\u001b[0m\u001b[0margs\u001b[0m\u001b[0;34m,\u001b[0m \u001b[0;34m**\u001b[0m\u001b[0mkwargs\u001b[0m\u001b[0;34m)\u001b[0m\u001b[0;34m\u001b[0m\u001b[0m\n\u001b[0m\u001b[1;32m    109\u001b[0m \u001b[0;34m\u001b[0m\u001b[0m\n\u001b[1;32m    110\u001b[0m     \u001b[0;31m# Running inside `run_distribute_coordinator` already.\u001b[0m\u001b[0;34m\u001b[0m\u001b[0;34m\u001b[0m\u001b[0m\n",
      "\u001b[0;32m~/anaconda3/envs/hugging/lib/python3.7/site-packages/tensorflow/python/keras/engine/training.py\u001b[0m in \u001b[0;36mfit\u001b[0;34m(self, x, y, batch_size, epochs, verbose, callbacks, validation_split, validation_data, shuffle, class_weight, sample_weight, initial_epoch, steps_per_epoch, validation_steps, validation_batch_size, validation_freq, max_queue_size, workers, use_multiprocessing)\u001b[0m\n\u001b[1;32m   1096\u001b[0m                 batch_size=batch_size):\n\u001b[1;32m   1097\u001b[0m               \u001b[0mcallbacks\u001b[0m\u001b[0;34m.\u001b[0m\u001b[0mon_train_batch_begin\u001b[0m\u001b[0;34m(\u001b[0m\u001b[0mstep\u001b[0m\u001b[0;34m)\u001b[0m\u001b[0;34m\u001b[0m\u001b[0m\n\u001b[0;32m-> 1098\u001b[0;31m               \u001b[0mtmp_logs\u001b[0m \u001b[0;34m=\u001b[0m \u001b[0mtrain_function\u001b[0m\u001b[0;34m(\u001b[0m\u001b[0miterator\u001b[0m\u001b[0;34m)\u001b[0m\u001b[0;34m\u001b[0m\u001b[0m\n\u001b[0m\u001b[1;32m   1099\u001b[0m               \u001b[0;32mif\u001b[0m \u001b[0mdata_handler\u001b[0m\u001b[0;34m.\u001b[0m\u001b[0mshould_sync\u001b[0m\u001b[0;34m:\u001b[0m\u001b[0;34m\u001b[0m\u001b[0m\n\u001b[1;32m   1100\u001b[0m                 \u001b[0mcontext\u001b[0m\u001b[0;34m.\u001b[0m\u001b[0masync_wait\u001b[0m\u001b[0;34m(\u001b[0m\u001b[0;34m)\u001b[0m\u001b[0;34m\u001b[0m\u001b[0m\n",
      "\u001b[0;32m~/anaconda3/envs/hugging/lib/python3.7/site-packages/tensorflow/python/eager/def_function.py\u001b[0m in \u001b[0;36m__call__\u001b[0;34m(self, *args, **kwds)\u001b[0m\n\u001b[1;32m    778\u001b[0m       \u001b[0;32melse\u001b[0m\u001b[0;34m:\u001b[0m\u001b[0;34m\u001b[0m\u001b[0m\n\u001b[1;32m    779\u001b[0m         \u001b[0mcompiler\u001b[0m \u001b[0;34m=\u001b[0m \u001b[0;34m\"nonXla\"\u001b[0m\u001b[0;34m\u001b[0m\u001b[0m\n\u001b[0;32m--> 780\u001b[0;31m         \u001b[0mresult\u001b[0m \u001b[0;34m=\u001b[0m \u001b[0mself\u001b[0m\u001b[0;34m.\u001b[0m\u001b[0m_call\u001b[0m\u001b[0;34m(\u001b[0m\u001b[0;34m*\u001b[0m\u001b[0margs\u001b[0m\u001b[0;34m,\u001b[0m \u001b[0;34m**\u001b[0m\u001b[0mkwds\u001b[0m\u001b[0;34m)\u001b[0m\u001b[0;34m\u001b[0m\u001b[0m\n\u001b[0m\u001b[1;32m    781\u001b[0m \u001b[0;34m\u001b[0m\u001b[0m\n\u001b[1;32m    782\u001b[0m       \u001b[0mnew_tracing_count\u001b[0m \u001b[0;34m=\u001b[0m \u001b[0mself\u001b[0m\u001b[0;34m.\u001b[0m\u001b[0m_get_tracing_count\u001b[0m\u001b[0;34m(\u001b[0m\u001b[0;34m)\u001b[0m\u001b[0;34m\u001b[0m\u001b[0m\n",
      "\u001b[0;32m~/anaconda3/envs/hugging/lib/python3.7/site-packages/tensorflow/python/eager/def_function.py\u001b[0m in \u001b[0;36m_call\u001b[0;34m(self, *args, **kwds)\u001b[0m\n\u001b[1;32m    812\u001b[0m       \u001b[0;31m# In this case we have not created variables on the first call. So we can\u001b[0m\u001b[0;34m\u001b[0m\u001b[0;34m\u001b[0m\u001b[0m\n\u001b[1;32m    813\u001b[0m       \u001b[0;31m# run the first trace but we should fail if variables are created.\u001b[0m\u001b[0;34m\u001b[0m\u001b[0;34m\u001b[0m\u001b[0m\n\u001b[0;32m--> 814\u001b[0;31m       \u001b[0mresults\u001b[0m \u001b[0;34m=\u001b[0m \u001b[0mself\u001b[0m\u001b[0;34m.\u001b[0m\u001b[0m_stateful_fn\u001b[0m\u001b[0;34m(\u001b[0m\u001b[0;34m*\u001b[0m\u001b[0margs\u001b[0m\u001b[0;34m,\u001b[0m \u001b[0;34m**\u001b[0m\u001b[0mkwds\u001b[0m\u001b[0;34m)\u001b[0m\u001b[0;34m\u001b[0m\u001b[0m\n\u001b[0m\u001b[1;32m    815\u001b[0m       \u001b[0;32mif\u001b[0m \u001b[0mself\u001b[0m\u001b[0;34m.\u001b[0m\u001b[0m_created_variables\u001b[0m\u001b[0;34m:\u001b[0m\u001b[0;34m\u001b[0m\u001b[0m\n\u001b[1;32m    816\u001b[0m         raise ValueError(\"Creating variables on a non-first call to a function\"\n",
      "\u001b[0;32m~/anaconda3/envs/hugging/lib/python3.7/site-packages/tensorflow/python/eager/function.py\u001b[0m in \u001b[0;36m__call__\u001b[0;34m(self, *args, **kwargs)\u001b[0m\n\u001b[1;32m   2827\u001b[0m     \u001b[0;32mwith\u001b[0m \u001b[0mself\u001b[0m\u001b[0;34m.\u001b[0m\u001b[0m_lock\u001b[0m\u001b[0;34m:\u001b[0m\u001b[0;34m\u001b[0m\u001b[0m\n\u001b[1;32m   2828\u001b[0m       \u001b[0mgraph_function\u001b[0m\u001b[0;34m,\u001b[0m \u001b[0margs\u001b[0m\u001b[0;34m,\u001b[0m \u001b[0mkwargs\u001b[0m \u001b[0;34m=\u001b[0m \u001b[0mself\u001b[0m\u001b[0;34m.\u001b[0m\u001b[0m_maybe_define_function\u001b[0m\u001b[0;34m(\u001b[0m\u001b[0margs\u001b[0m\u001b[0;34m,\u001b[0m \u001b[0mkwargs\u001b[0m\u001b[0;34m)\u001b[0m\u001b[0;34m\u001b[0m\u001b[0m\n\u001b[0;32m-> 2829\u001b[0;31m     \u001b[0;32mreturn\u001b[0m \u001b[0mgraph_function\u001b[0m\u001b[0;34m.\u001b[0m\u001b[0m_filtered_call\u001b[0m\u001b[0;34m(\u001b[0m\u001b[0margs\u001b[0m\u001b[0;34m,\u001b[0m \u001b[0mkwargs\u001b[0m\u001b[0;34m)\u001b[0m  \u001b[0;31m# pylint: disable=protected-access\u001b[0m\u001b[0;34m\u001b[0m\u001b[0m\n\u001b[0m\u001b[1;32m   2830\u001b[0m \u001b[0;34m\u001b[0m\u001b[0m\n\u001b[1;32m   2831\u001b[0m   \u001b[0;34m@\u001b[0m\u001b[0mproperty\u001b[0m\u001b[0;34m\u001b[0m\u001b[0m\n",
      "\u001b[0;32m~/anaconda3/envs/hugging/lib/python3.7/site-packages/tensorflow/python/eager/function.py\u001b[0m in \u001b[0;36m_filtered_call\u001b[0;34m(self, args, kwargs, cancellation_manager)\u001b[0m\n\u001b[1;32m   1846\u001b[0m                            resource_variable_ops.BaseResourceVariable))],\n\u001b[1;32m   1847\u001b[0m         \u001b[0mcaptured_inputs\u001b[0m\u001b[0;34m=\u001b[0m\u001b[0mself\u001b[0m\u001b[0;34m.\u001b[0m\u001b[0mcaptured_inputs\u001b[0m\u001b[0;34m,\u001b[0m\u001b[0;34m\u001b[0m\u001b[0m\n\u001b[0;32m-> 1848\u001b[0;31m         cancellation_manager=cancellation_manager)\n\u001b[0m\u001b[1;32m   1849\u001b[0m \u001b[0;34m\u001b[0m\u001b[0m\n\u001b[1;32m   1850\u001b[0m   \u001b[0;32mdef\u001b[0m \u001b[0m_call_flat\u001b[0m\u001b[0;34m(\u001b[0m\u001b[0mself\u001b[0m\u001b[0;34m,\u001b[0m \u001b[0margs\u001b[0m\u001b[0;34m,\u001b[0m \u001b[0mcaptured_inputs\u001b[0m\u001b[0;34m,\u001b[0m \u001b[0mcancellation_manager\u001b[0m\u001b[0;34m=\u001b[0m\u001b[0;32mNone\u001b[0m\u001b[0;34m)\u001b[0m\u001b[0;34m:\u001b[0m\u001b[0;34m\u001b[0m\u001b[0m\n",
      "\u001b[0;32m~/anaconda3/envs/hugging/lib/python3.7/site-packages/tensorflow/python/eager/function.py\u001b[0m in \u001b[0;36m_call_flat\u001b[0;34m(self, args, captured_inputs, cancellation_manager)\u001b[0m\n\u001b[1;32m   1922\u001b[0m       \u001b[0;31m# No tape is watching; skip to running the function.\u001b[0m\u001b[0;34m\u001b[0m\u001b[0;34m\u001b[0m\u001b[0m\n\u001b[1;32m   1923\u001b[0m       return self._build_call_outputs(self._inference_function.call(\n\u001b[0;32m-> 1924\u001b[0;31m           ctx, args, cancellation_manager=cancellation_manager))\n\u001b[0m\u001b[1;32m   1925\u001b[0m     forward_backward = self._select_forward_and_backward_functions(\n\u001b[1;32m   1926\u001b[0m         \u001b[0margs\u001b[0m\u001b[0;34m,\u001b[0m\u001b[0;34m\u001b[0m\u001b[0m\n",
      "\u001b[0;32m~/anaconda3/envs/hugging/lib/python3.7/site-packages/tensorflow/python/eager/function.py\u001b[0m in \u001b[0;36mcall\u001b[0;34m(self, ctx, args, cancellation_manager)\u001b[0m\n\u001b[1;32m    548\u001b[0m               \u001b[0minputs\u001b[0m\u001b[0;34m=\u001b[0m\u001b[0margs\u001b[0m\u001b[0;34m,\u001b[0m\u001b[0;34m\u001b[0m\u001b[0m\n\u001b[1;32m    549\u001b[0m               \u001b[0mattrs\u001b[0m\u001b[0;34m=\u001b[0m\u001b[0mattrs\u001b[0m\u001b[0;34m,\u001b[0m\u001b[0;34m\u001b[0m\u001b[0m\n\u001b[0;32m--> 550\u001b[0;31m               ctx=ctx)\n\u001b[0m\u001b[1;32m    551\u001b[0m         \u001b[0;32melse\u001b[0m\u001b[0;34m:\u001b[0m\u001b[0;34m\u001b[0m\u001b[0m\n\u001b[1;32m    552\u001b[0m           outputs = execute.execute_with_cancellation(\n",
      "\u001b[0;32m~/anaconda3/envs/hugging/lib/python3.7/site-packages/tensorflow/python/eager/execute.py\u001b[0m in \u001b[0;36mquick_execute\u001b[0;34m(op_name, num_outputs, inputs, attrs, ctx, name)\u001b[0m\n\u001b[1;32m     58\u001b[0m     \u001b[0mctx\u001b[0m\u001b[0;34m.\u001b[0m\u001b[0mensure_initialized\u001b[0m\u001b[0;34m(\u001b[0m\u001b[0;34m)\u001b[0m\u001b[0;34m\u001b[0m\u001b[0m\n\u001b[1;32m     59\u001b[0m     tensors = pywrap_tfe.TFE_Py_Execute(ctx._handle, device_name, op_name,\n\u001b[0;32m---> 60\u001b[0;31m                                         inputs, attrs, num_outputs)\n\u001b[0m\u001b[1;32m     61\u001b[0m   \u001b[0;32mexcept\u001b[0m \u001b[0mcore\u001b[0m\u001b[0;34m.\u001b[0m\u001b[0m_NotOkStatusException\u001b[0m \u001b[0;32mas\u001b[0m \u001b[0me\u001b[0m\u001b[0;34m:\u001b[0m\u001b[0;34m\u001b[0m\u001b[0m\n\u001b[1;32m     62\u001b[0m     \u001b[0;32mif\u001b[0m \u001b[0mname\u001b[0m \u001b[0;32mis\u001b[0m \u001b[0;32mnot\u001b[0m \u001b[0;32mNone\u001b[0m\u001b[0;34m:\u001b[0m\u001b[0;34m\u001b[0m\u001b[0m\n",
      "\u001b[0;31mKeyboardInterrupt\u001b[0m: "
     ]
    }
   ],
   "source": [
    "epochs_done = 0\n",
    "model.fit(train_ds, epochs=50, steps_per_epoch=steps, callbacks=callbacks, \n",
    "          validation_data=valid_ds, validation_steps=valid_steps, initial_epoch=epochs_done)"
   ]
  },
  {
   "cell_type": "code",
   "execution_count": null,
   "metadata": {
    "colab": {},
    "colab_type": "code",
    "id": "pDIaNYrVDXO7"
   },
   "outputs": [],
   "source": [
    "# model.evaluate(valid_ds, steps=valid_steps)"
   ]
  },
  {
   "cell_type": "code",
   "execution_count": 23,
   "metadata": {
    "colab": {},
    "colab_type": "code",
    "id": "nYDPH77LDXO9"
   },
   "outputs": [],
   "source": [
    "model.save_pretrained(save_path)\n"
   ]
  },
  {
   "cell_type": "markdown",
   "metadata": {},
   "source": [
    "### Lets tests our model!!"
   ]
  },
  {
   "cell_type": "code",
   "execution_count": 28,
   "metadata": {},
   "outputs": [
    {
     "name": "stdout",
     "output_type": "stream",
     "text": [
      "We went on a trip to Europe. We had our breakfast at 7 am in the morning at the nearby coffee shop. Wore a dark blue over coat for our first visit to Louvre Museum to experience history and art\n",
      "At what time did we had breakfast?\n"
     ]
    }
   ],
   "source": [
    "context = \"\"\"We went on a trip to Europe. We had our breakfast at 7 am in the morning at \\\n",
    "the nearby coffee shop. Wore a dark blue over coat for our first visit to Louvre Museum \\\n",
    "to experience history and art.\"\"\"\n",
    "\n",
    "question = \"At what time did we had breakfast?\"\n",
    "print(context)\n",
    "print(question)"
   ]
  },
  {
   "cell_type": "code",
   "execution_count": 29,
   "metadata": {
    "colab": {},
    "colab_type": "code",
    "id": "2ihk1kxxDXO_"
   },
   "outputs": [],
   "source": [
    "input_text =  f\"answer_me: {question} context: {context} </s>\"\n",
    "encoded_query = tokenizer(input_text, \n",
    "                         return_tensors='tf', padding=True, truncation=True)\n",
    "input_ids = encoded_query[\"input_ids\"]\n",
    "attention_mask = encoded_query[\"attention_mask\"]\n",
    "generated_question = model.generate(input_ids, attention_mask=attention_mask)\n",
    "decoded_question = tokenizer.decode(generated_question.numpy()[0])"
   ]
  },
  {
   "cell_type": "code",
   "execution_count": 30,
   "metadata": {
    "colab": {},
    "colab_type": "code",
    "id": "EejrdGS6DXPB",
    "outputId": "f2747344-4e8d-4794-8d92-00f4a6f87616"
   },
   "outputs": [
    {
     "data": {
      "text/plain": [
       "'a'"
      ]
     },
     "execution_count": 30,
     "metadata": {},
     "output_type": "execute_result"
    }
   ],
   "source": [
    "decoded_question"
   ]
  },
  {
   "cell_type": "code",
   "execution_count": null,
   "metadata": {
    "colab": {},
    "colab_type": "code",
    "id": "gRuos-M-DXPM"
   },
   "outputs": [],
   "source": []
  }
 ],
 "metadata": {
  "colab": {
   "include_colab_link": true,
   "name": "TF-T5- Training.ipynb",
   "provenance": []
  },
  "kernelspec": {
   "display_name": "Hugging Face",
   "language": "python",
   "name": "hugging"
  },
  "language_info": {
   "codemirror_mode": {
    "name": "ipython",
    "version": 3
   },
   "file_extension": ".py",
   "mimetype": "text/x-python",
   "name": "python",
   "nbconvert_exporter": "python",
   "pygments_lexer": "ipython3",
   "version": "3.7.0"
  }
 },
 "nbformat": 4,
 "nbformat_minor": 1
}
