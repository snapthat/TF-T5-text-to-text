{
  "nbformat": 4,
  "nbformat_minor": 0,
  "metadata": {
    "kernelspec": {
      "display_name": "Hugging Face",
      "language": "python",
      "name": "hugging"
    },
    "language_info": {
      "codemirror_mode": {
        "name": "ipython",
        "version": 3
      },
      "file_extension": ".py",
      "mimetype": "text/x-python",
      "name": "python",
      "nbconvert_exporter": "python",
      "pygments_lexer": "ipython3",
      "version": "3.7.0"
    },
    "colab": {
      "name": "TF-T5- Training.ipynb",
      "provenance": [],
      "include_colab_link": true
    }
  },
  "cells": [
    {
      "cell_type": "markdown",
      "metadata": {
        "id": "view-in-github",
        "colab_type": "text"
      },
      "source": [
        "<a href=\"https://colab.research.google.com/github/snapthat/TF-T5-text-to-text/blob/master/snapthatT5/notebooks/TF-T5-%20Training.ipynb\" target=\"_parent\"><img src=\"https://colab.research.google.com/assets/colab-badge.svg\" alt=\"Open In Colab\"/></a>"
      ]
    },
    {
      "cell_type": "code",
      "metadata": {
        "id": "MtcZthujDXNp",
        "colab_type": "code",
        "colab": {}
      },
      "source": [
        "%load_ext autoreload\n",
        "%autoreload 2"
      ],
      "execution_count": null,
      "outputs": []
    },
    {
      "cell_type": "code",
      "metadata": {
        "id": "MNXNDZAfDXNx",
        "colab_type": "code",
        "colab": {}
      },
      "source": [
        "import sys\n",
        "sys.path.append(\"../../\")"
      ],
      "execution_count": null,
      "outputs": []
    },
    {
      "cell_type": "code",
      "metadata": {
        "id": "6aWoa3AtDXN0",
        "colab_type": "code",
        "colab": {}
      },
      "source": [
        "import tensorflow_datasets as tfds\n",
        "import tensorflow as tf\n",
        "\n",
        "import time\n",
        "import numpy as np\n",
        "import matplotlib.pyplot as plt\n",
        "from language.config.tfgpuconfig import TFGPUConfig\n",
        "import tensorflow_datasets as tfds\n",
        "from transformers import (TFAutoModelWithLMHead, AutoTokenizer, \n",
        "    TFTrainer, TFTrainingArguments, TFT5ForConditionalGeneration, T5Config)\n",
        "import datetime\n",
        "import os"
      ],
      "execution_count": null,
      "outputs": []
    },
    {
      "cell_type": "code",
      "metadata": {
        "id": "HW4rT8FODXN3",
        "colab_type": "code",
        "colab": {}
      },
      "source": [
        "os.environ[\"TF_GPU_THREAD_MODE\"]=\"gpu_private\""
      ],
      "execution_count": null,
      "outputs": []
    },
    {
      "cell_type": "code",
      "metadata": {
        "id": "OQ5CoTk-DXN6",
        "colab_type": "code",
        "colab": {},
        "outputId": "e10031cf-7e75-4012-e4a4-7ac3ecee9d1e"
      },
      "source": [
        "tf.__version__"
      ],
      "execution_count": null,
      "outputs": [
        {
          "output_type": "execute_result",
          "data": {
            "text/plain": [
              "'2.3.0'"
            ]
          },
          "metadata": {
            "tags": []
          },
          "execution_count": 5
        }
      ]
    },
    {
      "cell_type": "code",
      "metadata": {
        "id": "0X5jKZMdDXN9",
        "colab_type": "code",
        "colab": {},
        "outputId": "d9f201a1-18ea-4127-b14c-d72eb36715e4"
      },
      "source": [
        "tfgpu_config = TFGPUConfig()\n",
        "tfgpu_config.select_gpus([0])  # select gpu\n",
        "tfgpu_config.set_gpu_memory_growth()\n",
        "print(f\"Total physical gpus: {tfgpu_config.get_physical_gpu_count()}\")\n",
        "print(f\"Total Logical gpus: {tfgpu_config.get_logical_gpu_count()}\")\n",
        "print(f\"Selected GPU: {tfgpu_config.get_selected_gpus()}\")"
      ],
      "execution_count": null,
      "outputs": [
        {
          "output_type": "stream",
          "text": [
            "Total physical gpus: 1\n",
            "Total Logical gpus: 1\n",
            "Selected GPU: ['/physical_device:GPU:0']\n"
          ],
          "name": "stdout"
        }
      ]
    },
    {
      "cell_type": "code",
      "metadata": {
        "id": "KRMGSskHDXOA",
        "colab_type": "code",
        "colab": {}
      },
      "source": [
        "log_dir = \"/home/ml/workspace/ai/language-modelling/data/experiments/t5/logs\"\n",
        "save_path = \"/home/ml/workspace/ai/language-modelling/data/experiments/t5/models\"\n",
        "cache_path_train = \"/home/ml/workspace/ai/language-modelling/data/cache/t5.train\"\n",
        "cache_path_test = \"/home/ml/workspace/ai/language-modelling/data/cache/t5.test\""
      ],
      "execution_count": null,
      "outputs": []
    },
    {
      "cell_type": "code",
      "metadata": {
        "id": "VvOrIgzODXOD",
        "colab_type": "code",
        "colab": {}
      },
      "source": [
        "tokenizer = AutoTokenizer.from_pretrained(\"t5-base\")          "
      ],
      "execution_count": null,
      "outputs": []
    },
    {
      "cell_type": "code",
      "metadata": {
        "id": "2xcGqd9qDXOF",
        "colab_type": "code",
        "colab": {}
      },
      "source": [
        "class SnapthatT5(TFT5ForConditionalGeneration):\n",
        "    def __init__(self, *args, log_dir=None, cache_dir= None, **kwargs):\n",
        "        super().__init__(*args, **kwargs)\n",
        "        self.loss_tracker= tf.keras.metrics.Mean(name='loss')\n",
        "#         self.test_loss_tracker= tf.keras.metrics.Mean(name='val_loss')     \n",
        "        pass\n",
        "    \n",
        "    def train_step(self, data):\n",
        "        x, y  = data\n",
        "        with tf.GradientTape() as tape:\n",
        "            outputs = model(x, training=True)\n",
        "            loss = outputs[0]\n",
        "            logits = outputs[1]\n",
        "            loss = tf.reduce_mean(loss)\n",
        "            \n",
        "        grads = tape.gradient(loss, model.trainable_variables)\n",
        "        self.optimizer.apply_gradients(zip(grads, model.trainable_variables))\n",
        "        lr = optimizer.lr\n",
        "        \n",
        "        self.loss_tracker.update_state(loss)\n",
        "        \n",
        "        self.compiled_metrics.update_state(y, logits)\n",
        "        metrics = {m.name: m.result() for m in self.metrics}\n",
        "        metrics.update({'lr': lr})\n",
        "        \n",
        "        return metrics\n",
        "\n",
        "    def test_step(self, data):\n",
        "        # Unpack the data\n",
        "        x, y = data\n",
        "        # Compute predictions\n",
        "        output = self(x, training=False)\n",
        "        loss = output[0]\n",
        "        loss = tf.reduce_mean(loss)\n",
        "        logits = output[1]\n",
        "        \n",
        "        self.loss_tracker.update_state(loss)\n",
        "        self.compiled_metrics.update_state(y, logits)\n",
        "        return {m.name: m.result() for m in self.metrics}\n",
        "\n",
        "        "
      ],
      "execution_count": null,
      "outputs": []
    },
    {
      "cell_type": "code",
      "metadata": {
        "id": "1EgTphQODXOH",
        "colab_type": "code",
        "colab": {}
      },
      "source": [
        ""
      ],
      "execution_count": null,
      "outputs": []
    },
    {
      "cell_type": "code",
      "metadata": {
        "scrolled": true,
        "id": "KX1rsWgZDXOK",
        "colab_type": "code",
        "colab": {},
        "outputId": "8967c22c-732a-422f-9e1d-8462d23ecb0f"
      },
      "source": [
        "train_dataset, info = tfds.load('squad', split='train', with_info=True)\n",
        "valid_dataset = tfds.load('squad', split='validation', with_info=False)\n",
        "print(info)"
      ],
      "execution_count": null,
      "outputs": [
        {
          "output_type": "stream",
          "text": [
            "INFO:absl:No config specified, defaulting to first: squad/plain_text\n",
            "INFO:absl:Load dataset info from /home/ml/tensorflow_datasets/squad/plain_text/1.0.0\n",
            "INFO:absl:Reusing dataset squad (/home/ml/tensorflow_datasets/squad/plain_text/1.0.0)\n",
            "INFO:absl:Constructing tf.data.Dataset for split train, from /home/ml/tensorflow_datasets/squad/plain_text/1.0.0\n",
            "INFO:absl:No config specified, defaulting to first: squad/plain_text\n",
            "INFO:absl:Load dataset info from /home/ml/tensorflow_datasets/squad/plain_text/1.0.0\n",
            "INFO:absl:Reusing dataset squad (/home/ml/tensorflow_datasets/squad/plain_text/1.0.0)\n",
            "INFO:absl:Constructing tf.data.Dataset for split validation, from /home/ml/tensorflow_datasets/squad/plain_text/1.0.0\n"
          ],
          "name": "stderr"
        },
        {
          "output_type": "stream",
          "text": [
            "tfds.core.DatasetInfo(\n",
            "    name='squad',\n",
            "    version=1.0.0,\n",
            "    description='Stanford Question Answering Dataset (SQuAD) is a reading comprehension dataset, consisting of questions posed by crowdworkers on a set of Wikipedia articles, where the answer to every question is a segment of text, or span, from the corresponding reading passage, or the question might be unanswerable.',\n",
            "    homepage='https://rajpurkar.github.io/SQuAD-explorer/',\n",
            "    features=FeaturesDict({\n",
            "        'answers': Sequence({\n",
            "            'answer_start': tf.int32,\n",
            "            'text': Text(shape=(), dtype=tf.string),\n",
            "        }),\n",
            "        'context': Text(shape=(), dtype=tf.string),\n",
            "        'id': tf.string,\n",
            "        'question': Text(shape=(), dtype=tf.string),\n",
            "        'title': Text(shape=(), dtype=tf.string),\n",
            "    }),\n",
            "    total_num_examples=98169,\n",
            "    splits={\n",
            "        'train': 87599,\n",
            "        'validation': 10570,\n",
            "    },\n",
            "    supervised_keys=None,\n",
            "    citation=\"\"\"@article{2016arXiv160605250R,\n",
            "           author = {{Rajpurkar}, Pranav and {Zhang}, Jian and {Lopyrev},\n",
            "                     Konstantin and {Liang}, Percy},\n",
            "            title = \"{SQuAD: 100,000+ Questions for Machine Comprehension of Text}\",\n",
            "          journal = {arXiv e-prints},\n",
            "             year = 2016,\n",
            "              eid = {arXiv:1606.05250},\n",
            "            pages = {arXiv:1606.05250},\n",
            "    archivePrefix = {arXiv},\n",
            "           eprint = {1606.05250},\n",
            "    }\"\"\",\n",
            "    redistribution_info=,\n",
            ")\n",
            "\n"
          ],
          "name": "stdout"
        }
      ]
    },
    {
      "cell_type": "code",
      "metadata": {
        "id": "y7EK-tgHDXOM",
        "colab_type": "code",
        "colab": {}
      },
      "source": [
        ""
      ],
      "execution_count": null,
      "outputs": []
    },
    {
      "cell_type": "code",
      "metadata": {
        "id": "SIZFbP4IDXOO",
        "colab_type": "code",
        "colab": {},
        "outputId": "7e5e1ad2-fdd7-448b-c32a-71208ddfa158"
      },
      "source": [
        "warmup_steps = 1e4\n",
        "batch_size = 4\n",
        "max_len = 100\n",
        "buffer_size = 1000\n",
        "ntrain = info.splits[\"train\"].num_examples\n",
        "nvalid = info.splits[\"validation\"].num_examples\n",
        "steps = int(np.ceil(ntrain/batch_size))\n",
        "valid_steps = int(np.ceil(nvalid/batch_size))\n",
        "print(\"Total Steps: \", steps)\n",
        "print(\"Total Validation Steps: \", valid_steps)"
      ],
      "execution_count": null,
      "outputs": [
        {
          "output_type": "stream",
          "text": [
            "Total Steps:  21900\n",
            "Total Validation Steps:  2643\n"
          ],
          "name": "stdout"
        }
      ]
    },
    {
      "cell_type": "code",
      "metadata": {
        "id": "NFg4KrtcDXOR",
        "colab_type": "code",
        "colab": {},
        "outputId": "b735ace0-4015-4fb6-bc4c-f77e6a56073f"
      },
      "source": [
        "for example in train_dataset.skip(5):\n",
        "    print(example.keys())\n",
        "    context = example['context']\n",
        "    question = example['question']\n",
        "#     print(f\"Answers: {example['answers']}\")\n",
        "    print(f\"context: {context}\")\n",
        "#     print(f\"id: {example['id']}\")\n",
        "#     print(f\"question: {question}\")\n",
        "#     print(f\"title: {example['title']}\")\n",
        "    break"
      ],
      "execution_count": null,
      "outputs": [
        {
          "output_type": "stream",
          "text": [
            "dict_keys(['answers', 'context', 'id', 'question', 'title'])\n",
            "context: b\"Similarly, movies and television often revert to standard, clich\\xc3\\xa9d snatches of classical music to convey refinement or opulence: some of the most-often heard pieces in this category include Bach\\xc2\\xb4s Cello Suite No. 1, Mozart's Eine kleine Nachtmusik, Vivaldi's Four Seasons, Mussorgsky's Night on Bald Mountain (as orchestrated by Rimsky-Korsakov), and Rossini's William Tell Overture.\"\n"
          ],
          "name": "stdout"
        }
      ]
    },
    {
      "cell_type": "code",
      "metadata": {
        "scrolled": true,
        "id": "r2Oe1BmfDXOU",
        "colab_type": "code",
        "colab": {},
        "outputId": "d7fecd9d-06d9-42d8-a8b2-dace7b8beb00"
      },
      "source": [
        "context_plus = f\"ask_question: {str(context.numpy().decode('utf-8'))} </s>\"\n",
        "question_plus = f\"{str(question.numpy().decode('utf-8'))} </s>\"\n",
        "encoded = tokenizer(context_plus, padding=True, truncation=True, return_tensors='tf', \n",
        "                   max_length=512)\n",
        "\n",
        "encoded_plus = tokenizer([question_plus], truncation=True,\n",
        "                                    return_tensors='tf', max_length=512, \n",
        "                                    pad_to_max_length=True)\n",
        "encoded_plus"
      ],
      "execution_count": null,
      "outputs": [
        {
          "output_type": "execute_result",
          "data": {
            "text/plain": [
              "{'input_ids': <tf.Tensor: shape=(1, 512), dtype=int32, numpy=\n",
              "array([[2645, 2832, 4599, 8779, 2035, 2693,   58,    1,    0,    0,    0,\n",
              "           0,    0,    0,    0,    0,    0,    0,    0,    0,    0,    0,\n",
              "           0,    0,    0,    0,    0,    0,    0,    0,    0,    0,    0,\n",
              "           0,    0,    0,    0,    0,    0,    0,    0,    0,    0,    0,\n",
              "           0,    0,    0,    0,    0,    0,    0,    0,    0,    0,    0,\n",
              "           0,    0,    0,    0,    0,    0,    0,    0,    0,    0,    0,\n",
              "           0,    0,    0,    0,    0,    0,    0,    0,    0,    0,    0,\n",
              "           0,    0,    0,    0,    0,    0,    0,    0,    0,    0,    0,\n",
              "           0,    0,    0,    0,    0,    0,    0,    0,    0,    0,    0,\n",
              "           0,    0,    0,    0,    0,    0,    0,    0,    0,    0,    0,\n",
              "           0,    0,    0,    0,    0,    0,    0,    0,    0,    0,    0,\n",
              "           0,    0,    0,    0,    0,    0,    0,    0,    0,    0,    0,\n",
              "           0,    0,    0,    0,    0,    0,    0,    0,    0,    0,    0,\n",
              "           0,    0,    0,    0,    0,    0,    0,    0,    0,    0,    0,\n",
              "           0,    0,    0,    0,    0,    0,    0,    0,    0,    0,    0,\n",
              "           0,    0,    0,    0,    0,    0,    0,    0,    0,    0,    0,\n",
              "           0,    0,    0,    0,    0,    0,    0,    0,    0,    0,    0,\n",
              "           0,    0,    0,    0,    0,    0,    0,    0,    0,    0,    0,\n",
              "           0,    0,    0,    0,    0,    0,    0,    0,    0,    0,    0,\n",
              "           0,    0,    0,    0,    0,    0,    0,    0,    0,    0,    0,\n",
              "           0,    0,    0,    0,    0,    0,    0,    0,    0,    0,    0,\n",
              "           0,    0,    0,    0,    0,    0,    0,    0,    0,    0,    0,\n",
              "           0,    0,    0,    0,    0,    0,    0,    0,    0,    0,    0,\n",
              "           0,    0,    0,    0,    0,    0,    0,    0,    0,    0,    0,\n",
              "           0,    0,    0,    0,    0,    0,    0,    0,    0,    0,    0,\n",
              "           0,    0,    0,    0,    0,    0,    0,    0,    0,    0,    0,\n",
              "           0,    0,    0,    0,    0,    0,    0,    0,    0,    0,    0,\n",
              "           0,    0,    0,    0,    0,    0,    0,    0,    0,    0,    0,\n",
              "           0,    0,    0,    0,    0,    0,    0,    0,    0,    0,    0,\n",
              "           0,    0,    0,    0,    0,    0,    0,    0,    0,    0,    0,\n",
              "           0,    0,    0,    0,    0,    0,    0,    0,    0,    0,    0,\n",
              "           0,    0,    0,    0,    0,    0,    0,    0,    0,    0,    0,\n",
              "           0,    0,    0,    0,    0,    0,    0,    0,    0,    0,    0,\n",
              "           0,    0,    0,    0,    0,    0,    0,    0,    0,    0,    0,\n",
              "           0,    0,    0,    0,    0,    0,    0,    0,    0,    0,    0,\n",
              "           0,    0,    0,    0,    0,    0,    0,    0,    0,    0,    0,\n",
              "           0,    0,    0,    0,    0,    0,    0,    0,    0,    0,    0,\n",
              "           0,    0,    0,    0,    0,    0,    0,    0,    0,    0,    0,\n",
              "           0,    0,    0,    0,    0,    0,    0,    0,    0,    0,    0,\n",
              "           0,    0,    0,    0,    0,    0,    0,    0,    0,    0,    0,\n",
              "           0,    0,    0,    0,    0,    0,    0,    0,    0,    0,    0,\n",
              "           0,    0,    0,    0,    0,    0,    0,    0,    0,    0,    0,\n",
              "           0,    0,    0,    0,    0,    0,    0,    0,    0,    0,    0,\n",
              "           0,    0,    0,    0,    0,    0,    0,    0,    0,    0,    0,\n",
              "           0,    0,    0,    0,    0,    0,    0,    0,    0,    0,    0,\n",
              "           0,    0,    0,    0,    0,    0,    0,    0,    0,    0,    0,\n",
              "           0,    0,    0,    0,    0,    0]], dtype=int32)>, 'attention_mask': <tf.Tensor: shape=(1, 512), dtype=int32, numpy=\n",
              "array([[1, 1, 1, 1, 1, 1, 1, 1, 0, 0, 0, 0, 0, 0, 0, 0, 0, 0, 0, 0, 0, 0,\n",
              "        0, 0, 0, 0, 0, 0, 0, 0, 0, 0, 0, 0, 0, 0, 0, 0, 0, 0, 0, 0, 0, 0,\n",
              "        0, 0, 0, 0, 0, 0, 0, 0, 0, 0, 0, 0, 0, 0, 0, 0, 0, 0, 0, 0, 0, 0,\n",
              "        0, 0, 0, 0, 0, 0, 0, 0, 0, 0, 0, 0, 0, 0, 0, 0, 0, 0, 0, 0, 0, 0,\n",
              "        0, 0, 0, 0, 0, 0, 0, 0, 0, 0, 0, 0, 0, 0, 0, 0, 0, 0, 0, 0, 0, 0,\n",
              "        0, 0, 0, 0, 0, 0, 0, 0, 0, 0, 0, 0, 0, 0, 0, 0, 0, 0, 0, 0, 0, 0,\n",
              "        0, 0, 0, 0, 0, 0, 0, 0, 0, 0, 0, 0, 0, 0, 0, 0, 0, 0, 0, 0, 0, 0,\n",
              "        0, 0, 0, 0, 0, 0, 0, 0, 0, 0, 0, 0, 0, 0, 0, 0, 0, 0, 0, 0, 0, 0,\n",
              "        0, 0, 0, 0, 0, 0, 0, 0, 0, 0, 0, 0, 0, 0, 0, 0, 0, 0, 0, 0, 0, 0,\n",
              "        0, 0, 0, 0, 0, 0, 0, 0, 0, 0, 0, 0, 0, 0, 0, 0, 0, 0, 0, 0, 0, 0,\n",
              "        0, 0, 0, 0, 0, 0, 0, 0, 0, 0, 0, 0, 0, 0, 0, 0, 0, 0, 0, 0, 0, 0,\n",
              "        0, 0, 0, 0, 0, 0, 0, 0, 0, 0, 0, 0, 0, 0, 0, 0, 0, 0, 0, 0, 0, 0,\n",
              "        0, 0, 0, 0, 0, 0, 0, 0, 0, 0, 0, 0, 0, 0, 0, 0, 0, 0, 0, 0, 0, 0,\n",
              "        0, 0, 0, 0, 0, 0, 0, 0, 0, 0, 0, 0, 0, 0, 0, 0, 0, 0, 0, 0, 0, 0,\n",
              "        0, 0, 0, 0, 0, 0, 0, 0, 0, 0, 0, 0, 0, 0, 0, 0, 0, 0, 0, 0, 0, 0,\n",
              "        0, 0, 0, 0, 0, 0, 0, 0, 0, 0, 0, 0, 0, 0, 0, 0, 0, 0, 0, 0, 0, 0,\n",
              "        0, 0, 0, 0, 0, 0, 0, 0, 0, 0, 0, 0, 0, 0, 0, 0, 0, 0, 0, 0, 0, 0,\n",
              "        0, 0, 0, 0, 0, 0, 0, 0, 0, 0, 0, 0, 0, 0, 0, 0, 0, 0, 0, 0, 0, 0,\n",
              "        0, 0, 0, 0, 0, 0, 0, 0, 0, 0, 0, 0, 0, 0, 0, 0, 0, 0, 0, 0, 0, 0,\n",
              "        0, 0, 0, 0, 0, 0, 0, 0, 0, 0, 0, 0, 0, 0, 0, 0, 0, 0, 0, 0, 0, 0,\n",
              "        0, 0, 0, 0, 0, 0, 0, 0, 0, 0, 0, 0, 0, 0, 0, 0, 0, 0, 0, 0, 0, 0,\n",
              "        0, 0, 0, 0, 0, 0, 0, 0, 0, 0, 0, 0, 0, 0, 0, 0, 0, 0, 0, 0, 0, 0,\n",
              "        0, 0, 0, 0, 0, 0, 0, 0, 0, 0, 0, 0, 0, 0, 0, 0, 0, 0, 0, 0, 0, 0,\n",
              "        0, 0, 0, 0, 0, 0]], dtype=int32)>}"
            ]
          },
          "metadata": {
            "tags": []
          },
          "execution_count": 16
        }
      ]
    },
    {
      "cell_type": "code",
      "metadata": {
        "id": "4WSGU81JDXOW",
        "colab_type": "code",
        "colab": {}
      },
      "source": [
        ""
      ],
      "execution_count": null,
      "outputs": []
    },
    {
      "cell_type": "code",
      "metadata": {
        "id": "NdhcP171DXOY",
        "colab_type": "code",
        "colab": {}
      },
      "source": [
        "def encode(context,question , max_length=max_len):\n",
        "    context_plus = f\"ask_question: {str(context.numpy().decode('utf-8'))} </s>\"\n",
        "    question_plus = f\"{str(question.numpy().decode('utf-8'))} </s>\"\n",
        "    \n",
        "    encoder_inputs = tokenizer(context_plus, truncation=True, \n",
        "                               return_tensors='tf', max_length=max_length,\n",
        "                              pad_to_max_length=True)\n",
        "    \n",
        "    decoder_inputs = tokenizer(question_plus, truncation=True, \n",
        "                               return_tensors='tf', max_length=max_length,\n",
        "                              pad_to_max_length=True)\n",
        "    \n",
        "    input_ids = encoder_inputs['input_ids'][0]\n",
        "    input_attention = encoder_inputs['attention_mask'][0]\n",
        "    target_ids = decoder_inputs['input_ids'][0]\n",
        "    target_attention = decoder_inputs['attention_mask'][0]\n",
        "    \n",
        "    return input_ids,input_attention, target_ids, target_attention\n",
        "    \n",
        "    "
      ],
      "execution_count": null,
      "outputs": []
    },
    {
      "cell_type": "code",
      "metadata": {
        "id": "-sdlkpyEDXOa",
        "colab_type": "code",
        "colab": {}
      },
      "source": [
        "def encode_tf(inputs):\n",
        "    context = inputs['context']\n",
        "    question = inputs['question']\n",
        "    input_ids,input_attention, target_ids,target_attention = tf.py_function(encode, [context, question], \n",
        "                                           [tf.int32, tf.int32, tf.int32, tf.int32])\n",
        "    input_ids.set_shape([None])\n",
        "    target_ids.set_shape([None])\n",
        "    input_attention.set_shape([None])\n",
        "    target_attention.set_shape([None])\n",
        "    \n",
        "    labels = tf.reshape(target_ids, [-1, 1])\n",
        "    data=  {'input_ids': input_ids, #'decoder_input_ids': target_ids, \n",
        "            'labels': target_ids, \n",
        "            'attention_mask': input_attention,\n",
        "           'decoder_attention_mask': target_attention}\n",
        "    return (data, labels)\n"
      ],
      "execution_count": null,
      "outputs": []
    },
    {
      "cell_type": "code",
      "metadata": {
        "id": "LUKypEaSDXOd",
        "colab_type": "code",
        "colab": {}
      },
      "source": [
        "def create_dataset(source_dataset, cache_path=None, batch_size=4, \n",
        "                   buffer_size= 1000, shuffling=True):\n",
        "    dataset = source_dataset.map(encode_tf, num_parallel_calls=tf.data.experimental.AUTOTUNE)\n",
        "    \n",
        "    if cache_path is not None:\n",
        "        dataset = dataset.cache(cache_path)        \n",
        "    if shuffling:\n",
        "        dataset = dataset.shuffle(buffer_size)\n",
        "    dataset = dataset.batch(batch_size)\n",
        "    dataset = dataset.prefetch(tf.data.experimental.AUTOTUNE)\n",
        "    return dataset\n",
        "    "
      ],
      "execution_count": null,
      "outputs": []
    },
    {
      "cell_type": "code",
      "metadata": {
        "id": "nNiNtnsHDXOf",
        "colab_type": "code",
        "colab": {}
      },
      "source": [
        "train_ds= create_dataset(train_dataset, batch_size=batch_size, \n",
        "                         shuffling=True, cache_path = None)\n",
        "valid_ds = create_dataset(valid_dataset, batch_size=batch_size, \n",
        "                         shuffling=False, cache_path = None)\n"
      ],
      "execution_count": null,
      "outputs": []
    },
    {
      "cell_type": "code",
      "metadata": {
        "scrolled": true,
        "id": "KL9VfwI6DXOh",
        "colab_type": "code",
        "colab": {},
        "outputId": "09cd331a-338c-43c7-d0cd-1a22e685232a"
      },
      "source": [
        "data = next(iter(train_ds))\n",
        "data"
      ],
      "execution_count": null,
      "outputs": [
        {
          "output_type": "execute_result",
          "data": {
            "text/plain": [
              "({'input_ids': <tf.Tensor: shape=(4, 100), dtype=int32, numpy=\n",
              "  array([[  987,   834,  7771,  1575,    10,    37, 12729,    19,     3,\n",
              "              9,  1745,  1208,   538,    28,   128, 11552,    20,  4571,\n",
              "            162,    26,    12,  4593,  3141,  5579,     7,    41,   434,\n",
              "          13961,     7,    61,   365,     8,  1353,    13,     8,  4593,\n",
              "           3141,  3636,     5,   290,    19,    92,    80, 21286,  1719,\n",
              "              6,     8,  2040,  3114,  1162,  6163,    13, 10148,  8477,\n",
              "            152,     9,    32,     5,  2035,     8,   203,   796, 14172,\n",
              "             43,   118,  4382,    12,     8, 11378,    13,     8, 12729,\n",
              "              6,   379,   487,  3508,    12,     3,     9,  2822,   358,\n",
              "             38,   294,    13,     3,     9,  4108,    12,     3,     9,\n",
              "              3, 28443,   358,     5,    86, 16931, 27233,  1661, 29678,\n",
              "           2143],\n",
              "         [  987,   834,  7771,  1575,    10,   461,  1671, 12026,  1003,\n",
              "           3914,     6,  1117,  5089,  1632,     8,     3,    17,  9803,\n",
              "             89,   189,   538,    12,     3,  1795,  4921,     8, 11378,\n",
              "              5,    86,   507,  2445,     6,    34,  2012,     8,   538,\n",
              "          23491,   740,    16, 27414,     6,   341,  4125,   469,     5,\n",
              "           1377,    13,  1117,  5089,    31,     7, 15484,  2713,    11,\n",
              "            508,  1475,  1628,   130,  1069,    16,     8, 13350,  4149,\n",
              "             13,     8,   538,     5,  1875,  1117,  5089,    31,     7,\n",
              "           1475,   257,   358,    47,  2755,    11,   705, 29137,   145,\n",
              "             24,    13,  5382,     6,  5664,     6,    42,  1013,  5089,\n",
              "              6,  1516,  2302,    13,  1475,   277,   130, 18054,    16,\n",
              "              8],\n",
              "         [  987,   834,  7771,  1575,    10,    37,  2084,    13,     8,\n",
              "            778, 14877,  6490,    24,   925,    26,    26,   107,     2,\n",
              "             52,   189,     9, 12520, 22713,    47,  2170,    16,     3,\n",
              "              9,   573,    24,    47,    30,     8,   158,  5082,   760,\n",
              "             63,     6,   321, 20187,   120,    11,  2779,   120,     6,\n",
              "             13,     8, 25806,    49,    29,  2557,   769, 27339,    16,\n",
              "              8,  8486,  2646,   272,  4770,     5,    94,    47,   893,\n",
              "              3,     9,   422, 20237,     6,    16,    84,   495,   112,\n",
              "           2353,    47,    46,  8160,  5752,    17,     9,    77,     6,\n",
              "             42,    46,     3,  4172,  1478, 11971,     6,    16,    84,\n",
              "            495,   112,  2353,    47,    46,     3,    32,  2825,  7064,\n",
              "              5],\n",
              "         [  987,   834,  7771,  1575,    10,   938,     8,  4551,  7526,\n",
              "              7,     6,   508,  2302,    13, 11896,  4114,    16,     8,\n",
              "           6679,  3385, 12187,    11,   141,     3,  6500, 26759,  1054,\n",
              "            139,  2968,  1543,     6,   379,   186, 11896,   113,   141,\n",
              "           3150,     3,  6500, 26759,  1054,   139,  2379,  1543,    11,\n",
              "            141, 11518,     3,     9,  4838, 15028,    32,    18,   371,\n",
              "             60,  5457,  1612,     5,     3, 10688,     3,  6500, 26759,\n",
              "           1222,   139,  2968,  1543,     6,     8,  6692,  2968,   151,\n",
              "              7,     3, 10975,   779,  1467,    13,     8,  2968,  1612,\n",
              "             11,  2479,    13,   119,  1611,  8024,   139,     3,     9,\n",
              "           4838,  1612,   801,    38, 14224,    26,    26,  1273,     5,\n",
              "            611]], dtype=int32)>,\n",
              "  'labels': <tf.Tensor: shape=(4, 100), dtype=int32, numpy=\n",
              "  array([[  363,   410,  1661, 29678,  2143,  9750,  6191,  1533,  8170,\n",
              "             32,  4797,    58,     1,     0,     0,     0,     0,     0,\n",
              "              0,     0,     0,     0,     0,     0,     0,     0,     0,\n",
              "              0,     0,     0,     0,     0,     0,     0,     0,     0,\n",
              "              0,     0,     0,     0,     0,     0,     0,     0,     0,\n",
              "              0,     0,     0,     0,     0,     0,     0,     0,     0,\n",
              "              0,     0,     0,     0,     0,     0,     0,     0,     0,\n",
              "              0,     0,     0,     0,     0,     0,     0,     0,     0,\n",
              "              0,     0,     0,     0,     0,     0,     0,     0,     0,\n",
              "              0,     0,     0,     0,     0,     0,     0,     0,     0,\n",
              "              0,     0,     0,     0,     0,     0,     0,     0,     0,\n",
              "              0],\n",
              "         [  363,   294,    13,     8,   538,   130,   167, 15484,    11,\n",
              "           1475,   257,  2713, 18054,    16,    58,     1,     0,     0,\n",
              "              0,     0,     0,     0,     0,     0,     0,     0,     0,\n",
              "              0,     0,     0,     0,     0,     0,     0,     0,     0,\n",
              "              0,     0,     0,     0,     0,     0,     0,     0,     0,\n",
              "              0,     0,     0,     0,     0,     0,     0,     0,     0,\n",
              "              0,     0,     0,     0,     0,     0,     0,     0,     0,\n",
              "              0,     0,     0,     0,     0,     0,     0,     0,     0,\n",
              "              0,     0,     0,     0,     0,     0,     0,     0,     0,\n",
              "              0,     0,     0,     0,     0,     0,     0,     0,     0,\n",
              "              0,     0,     0,     0,     0,     0,     0,     0,     0,\n",
              "              0],\n",
              "         [  156,   925,    26,    26, 13626,  1024,  4114,    16,     3,\n",
              "              9,   422, 20237,     6,   112,  2353,   133,    43,   118,\n",
              "              3,     9,   125,    58,     1,     0,     0,     0,     0,\n",
              "              0,     0,     0,     0,     0,     0,     0,     0,     0,\n",
              "              0,     0,     0,     0,     0,     0,     0,     0,     0,\n",
              "              0,     0,     0,     0,     0,     0,     0,     0,     0,\n",
              "              0,     0,     0,     0,     0,     0,     0,     0,     0,\n",
              "              0,     0,     0,     0,     0,     0,     0,     0,     0,\n",
              "              0,     0,     0,     0,     0,     0,     0,     0,     0,\n",
              "              0,     0,     0,     0,     0,     0,     0,     0,     0,\n",
              "              0,     0,     0,     0,     0,     0,     0,     0,     0,\n",
              "              0],\n",
              "         [  938,   125,    97,  1059,   141,   186,    13,     8,  6692,\n",
              "           2074,  3311,     8,  6679,  3385, 12187,    58,     1,     0,\n",
              "              0,     0,     0,     0,     0,     0,     0,     0,     0,\n",
              "              0,     0,     0,     0,     0,     0,     0,     0,     0,\n",
              "              0,     0,     0,     0,     0,     0,     0,     0,     0,\n",
              "              0,     0,     0,     0,     0,     0,     0,     0,     0,\n",
              "              0,     0,     0,     0,     0,     0,     0,     0,     0,\n",
              "              0,     0,     0,     0,     0,     0,     0,     0,     0,\n",
              "              0,     0,     0,     0,     0,     0,     0,     0,     0,\n",
              "              0,     0,     0,     0,     0,     0,     0,     0,     0,\n",
              "              0,     0,     0,     0,     0,     0,     0,     0,     0,\n",
              "              0]], dtype=int32)>,\n",
              "  'attention_mask': <tf.Tensor: shape=(4, 100), dtype=int32, numpy=\n",
              "  array([[1, 1, 1, 1, 1, 1, 1, 1, 1, 1, 1, 1, 1, 1, 1, 1, 1, 1, 1, 1, 1, 1,\n",
              "          1, 1, 1, 1, 1, 1, 1, 1, 1, 1, 1, 1, 1, 1, 1, 1, 1, 1, 1, 1, 1, 1,\n",
              "          1, 1, 1, 1, 1, 1, 1, 1, 1, 1, 1, 1, 1, 1, 1, 1, 1, 1, 1, 1, 1, 1,\n",
              "          1, 1, 1, 1, 1, 1, 1, 1, 1, 1, 1, 1, 1, 1, 1, 1, 1, 1, 1, 1, 1, 1,\n",
              "          1, 1, 1, 1, 1, 1, 1, 1, 1, 1, 1, 1],\n",
              "         [1, 1, 1, 1, 1, 1, 1, 1, 1, 1, 1, 1, 1, 1, 1, 1, 1, 1, 1, 1, 1, 1,\n",
              "          1, 1, 1, 1, 1, 1, 1, 1, 1, 1, 1, 1, 1, 1, 1, 1, 1, 1, 1, 1, 1, 1,\n",
              "          1, 1, 1, 1, 1, 1, 1, 1, 1, 1, 1, 1, 1, 1, 1, 1, 1, 1, 1, 1, 1, 1,\n",
              "          1, 1, 1, 1, 1, 1, 1, 1, 1, 1, 1, 1, 1, 1, 1, 1, 1, 1, 1, 1, 1, 1,\n",
              "          1, 1, 1, 1, 1, 1, 1, 1, 1, 1, 1, 1],\n",
              "         [1, 1, 1, 1, 1, 1, 1, 1, 1, 1, 1, 1, 1, 1, 1, 1, 1, 1, 1, 1, 1, 1,\n",
              "          1, 1, 1, 1, 1, 1, 1, 1, 1, 1, 1, 1, 1, 1, 1, 1, 1, 1, 1, 1, 1, 1,\n",
              "          1, 1, 1, 1, 1, 1, 1, 1, 1, 1, 1, 1, 1, 1, 1, 1, 1, 1, 1, 1, 1, 1,\n",
              "          1, 1, 1, 1, 1, 1, 1, 1, 1, 1, 1, 1, 1, 1, 1, 1, 1, 1, 1, 1, 1, 1,\n",
              "          1, 1, 1, 1, 1, 1, 1, 1, 1, 1, 1, 1],\n",
              "         [1, 1, 1, 1, 1, 1, 1, 1, 1, 1, 1, 1, 1, 1, 1, 1, 1, 1, 1, 1, 1, 1,\n",
              "          1, 1, 1, 1, 1, 1, 1, 1, 1, 1, 1, 1, 1, 1, 1, 1, 1, 1, 1, 1, 1, 1,\n",
              "          1, 1, 1, 1, 1, 1, 1, 1, 1, 1, 1, 1, 1, 1, 1, 1, 1, 1, 1, 1, 1, 1,\n",
              "          1, 1, 1, 1, 1, 1, 1, 1, 1, 1, 1, 1, 1, 1, 1, 1, 1, 1, 1, 1, 1, 1,\n",
              "          1, 1, 1, 1, 1, 1, 1, 1, 1, 1, 1, 1]], dtype=int32)>,\n",
              "  'decoder_attention_mask': <tf.Tensor: shape=(4, 100), dtype=int32, numpy=\n",
              "  array([[1, 1, 1, 1, 1, 1, 1, 1, 1, 1, 1, 1, 1, 0, 0, 0, 0, 0, 0, 0, 0, 0,\n",
              "          0, 0, 0, 0, 0, 0, 0, 0, 0, 0, 0, 0, 0, 0, 0, 0, 0, 0, 0, 0, 0, 0,\n",
              "          0, 0, 0, 0, 0, 0, 0, 0, 0, 0, 0, 0, 0, 0, 0, 0, 0, 0, 0, 0, 0, 0,\n",
              "          0, 0, 0, 0, 0, 0, 0, 0, 0, 0, 0, 0, 0, 0, 0, 0, 0, 0, 0, 0, 0, 0,\n",
              "          0, 0, 0, 0, 0, 0, 0, 0, 0, 0, 0, 0],\n",
              "         [1, 1, 1, 1, 1, 1, 1, 1, 1, 1, 1, 1, 1, 1, 1, 1, 0, 0, 0, 0, 0, 0,\n",
              "          0, 0, 0, 0, 0, 0, 0, 0, 0, 0, 0, 0, 0, 0, 0, 0, 0, 0, 0, 0, 0, 0,\n",
              "          0, 0, 0, 0, 0, 0, 0, 0, 0, 0, 0, 0, 0, 0, 0, 0, 0, 0, 0, 0, 0, 0,\n",
              "          0, 0, 0, 0, 0, 0, 0, 0, 0, 0, 0, 0, 0, 0, 0, 0, 0, 0, 0, 0, 0, 0,\n",
              "          0, 0, 0, 0, 0, 0, 0, 0, 0, 0, 0, 0],\n",
              "         [1, 1, 1, 1, 1, 1, 1, 1, 1, 1, 1, 1, 1, 1, 1, 1, 1, 1, 1, 1, 1, 1,\n",
              "          1, 0, 0, 0, 0, 0, 0, 0, 0, 0, 0, 0, 0, 0, 0, 0, 0, 0, 0, 0, 0, 0,\n",
              "          0, 0, 0, 0, 0, 0, 0, 0, 0, 0, 0, 0, 0, 0, 0, 0, 0, 0, 0, 0, 0, 0,\n",
              "          0, 0, 0, 0, 0, 0, 0, 0, 0, 0, 0, 0, 0, 0, 0, 0, 0, 0, 0, 0, 0, 0,\n",
              "          0, 0, 0, 0, 0, 0, 0, 0, 0, 0, 0, 0],\n",
              "         [1, 1, 1, 1, 1, 1, 1, 1, 1, 1, 1, 1, 1, 1, 1, 1, 1, 0, 0, 0, 0, 0,\n",
              "          0, 0, 0, 0, 0, 0, 0, 0, 0, 0, 0, 0, 0, 0, 0, 0, 0, 0, 0, 0, 0, 0,\n",
              "          0, 0, 0, 0, 0, 0, 0, 0, 0, 0, 0, 0, 0, 0, 0, 0, 0, 0, 0, 0, 0, 0,\n",
              "          0, 0, 0, 0, 0, 0, 0, 0, 0, 0, 0, 0, 0, 0, 0, 0, 0, 0, 0, 0, 0, 0,\n",
              "          0, 0, 0, 0, 0, 0, 0, 0, 0, 0, 0, 0]], dtype=int32)>},\n",
              " <tf.Tensor: shape=(4, 100, 1), dtype=int32, numpy=\n",
              " array([[[  363],\n",
              "         [  410],\n",
              "         [ 1661],\n",
              "         [29678],\n",
              "         [ 2143],\n",
              "         [ 9750],\n",
              "         [ 6191],\n",
              "         [ 1533],\n",
              "         [ 8170],\n",
              "         [   32],\n",
              "         [ 4797],\n",
              "         [   58],\n",
              "         [    1],\n",
              "         [    0],\n",
              "         [    0],\n",
              "         [    0],\n",
              "         [    0],\n",
              "         [    0],\n",
              "         [    0],\n",
              "         [    0],\n",
              "         [    0],\n",
              "         [    0],\n",
              "         [    0],\n",
              "         [    0],\n",
              "         [    0],\n",
              "         [    0],\n",
              "         [    0],\n",
              "         [    0],\n",
              "         [    0],\n",
              "         [    0],\n",
              "         [    0],\n",
              "         [    0],\n",
              "         [    0],\n",
              "         [    0],\n",
              "         [    0],\n",
              "         [    0],\n",
              "         [    0],\n",
              "         [    0],\n",
              "         [    0],\n",
              "         [    0],\n",
              "         [    0],\n",
              "         [    0],\n",
              "         [    0],\n",
              "         [    0],\n",
              "         [    0],\n",
              "         [    0],\n",
              "         [    0],\n",
              "         [    0],\n",
              "         [    0],\n",
              "         [    0],\n",
              "         [    0],\n",
              "         [    0],\n",
              "         [    0],\n",
              "         [    0],\n",
              "         [    0],\n",
              "         [    0],\n",
              "         [    0],\n",
              "         [    0],\n",
              "         [    0],\n",
              "         [    0],\n",
              "         [    0],\n",
              "         [    0],\n",
              "         [    0],\n",
              "         [    0],\n",
              "         [    0],\n",
              "         [    0],\n",
              "         [    0],\n",
              "         [    0],\n",
              "         [    0],\n",
              "         [    0],\n",
              "         [    0],\n",
              "         [    0],\n",
              "         [    0],\n",
              "         [    0],\n",
              "         [    0],\n",
              "         [    0],\n",
              "         [    0],\n",
              "         [    0],\n",
              "         [    0],\n",
              "         [    0],\n",
              "         [    0],\n",
              "         [    0],\n",
              "         [    0],\n",
              "         [    0],\n",
              "         [    0],\n",
              "         [    0],\n",
              "         [    0],\n",
              "         [    0],\n",
              "         [    0],\n",
              "         [    0],\n",
              "         [    0],\n",
              "         [    0],\n",
              "         [    0],\n",
              "         [    0],\n",
              "         [    0],\n",
              "         [    0],\n",
              "         [    0],\n",
              "         [    0],\n",
              "         [    0],\n",
              "         [    0]],\n",
              " \n",
              "        [[  363],\n",
              "         [  294],\n",
              "         [   13],\n",
              "         [    8],\n",
              "         [  538],\n",
              "         [  130],\n",
              "         [  167],\n",
              "         [15484],\n",
              "         [   11],\n",
              "         [ 1475],\n",
              "         [  257],\n",
              "         [ 2713],\n",
              "         [18054],\n",
              "         [   16],\n",
              "         [   58],\n",
              "         [    1],\n",
              "         [    0],\n",
              "         [    0],\n",
              "         [    0],\n",
              "         [    0],\n",
              "         [    0],\n",
              "         [    0],\n",
              "         [    0],\n",
              "         [    0],\n",
              "         [    0],\n",
              "         [    0],\n",
              "         [    0],\n",
              "         [    0],\n",
              "         [    0],\n",
              "         [    0],\n",
              "         [    0],\n",
              "         [    0],\n",
              "         [    0],\n",
              "         [    0],\n",
              "         [    0],\n",
              "         [    0],\n",
              "         [    0],\n",
              "         [    0],\n",
              "         [    0],\n",
              "         [    0],\n",
              "         [    0],\n",
              "         [    0],\n",
              "         [    0],\n",
              "         [    0],\n",
              "         [    0],\n",
              "         [    0],\n",
              "         [    0],\n",
              "         [    0],\n",
              "         [    0],\n",
              "         [    0],\n",
              "         [    0],\n",
              "         [    0],\n",
              "         [    0],\n",
              "         [    0],\n",
              "         [    0],\n",
              "         [    0],\n",
              "         [    0],\n",
              "         [    0],\n",
              "         [    0],\n",
              "         [    0],\n",
              "         [    0],\n",
              "         [    0],\n",
              "         [    0],\n",
              "         [    0],\n",
              "         [    0],\n",
              "         [    0],\n",
              "         [    0],\n",
              "         [    0],\n",
              "         [    0],\n",
              "         [    0],\n",
              "         [    0],\n",
              "         [    0],\n",
              "         [    0],\n",
              "         [    0],\n",
              "         [    0],\n",
              "         [    0],\n",
              "         [    0],\n",
              "         [    0],\n",
              "         [    0],\n",
              "         [    0],\n",
              "         [    0],\n",
              "         [    0],\n",
              "         [    0],\n",
              "         [    0],\n",
              "         [    0],\n",
              "         [    0],\n",
              "         [    0],\n",
              "         [    0],\n",
              "         [    0],\n",
              "         [    0],\n",
              "         [    0],\n",
              "         [    0],\n",
              "         [    0],\n",
              "         [    0],\n",
              "         [    0],\n",
              "         [    0],\n",
              "         [    0],\n",
              "         [    0],\n",
              "         [    0],\n",
              "         [    0]],\n",
              " \n",
              "        [[  156],\n",
              "         [  925],\n",
              "         [   26],\n",
              "         [   26],\n",
              "         [13626],\n",
              "         [ 1024],\n",
              "         [ 4114],\n",
              "         [   16],\n",
              "         [    3],\n",
              "         [    9],\n",
              "         [  422],\n",
              "         [20237],\n",
              "         [    6],\n",
              "         [  112],\n",
              "         [ 2353],\n",
              "         [  133],\n",
              "         [   43],\n",
              "         [  118],\n",
              "         [    3],\n",
              "         [    9],\n",
              "         [  125],\n",
              "         [   58],\n",
              "         [    1],\n",
              "         [    0],\n",
              "         [    0],\n",
              "         [    0],\n",
              "         [    0],\n",
              "         [    0],\n",
              "         [    0],\n",
              "         [    0],\n",
              "         [    0],\n",
              "         [    0],\n",
              "         [    0],\n",
              "         [    0],\n",
              "         [    0],\n",
              "         [    0],\n",
              "         [    0],\n",
              "         [    0],\n",
              "         [    0],\n",
              "         [    0],\n",
              "         [    0],\n",
              "         [    0],\n",
              "         [    0],\n",
              "         [    0],\n",
              "         [    0],\n",
              "         [    0],\n",
              "         [    0],\n",
              "         [    0],\n",
              "         [    0],\n",
              "         [    0],\n",
              "         [    0],\n",
              "         [    0],\n",
              "         [    0],\n",
              "         [    0],\n",
              "         [    0],\n",
              "         [    0],\n",
              "         [    0],\n",
              "         [    0],\n",
              "         [    0],\n",
              "         [    0],\n",
              "         [    0],\n",
              "         [    0],\n",
              "         [    0],\n",
              "         [    0],\n",
              "         [    0],\n",
              "         [    0],\n",
              "         [    0],\n",
              "         [    0],\n",
              "         [    0],\n",
              "         [    0],\n",
              "         [    0],\n",
              "         [    0],\n",
              "         [    0],\n",
              "         [    0],\n",
              "         [    0],\n",
              "         [    0],\n",
              "         [    0],\n",
              "         [    0],\n",
              "         [    0],\n",
              "         [    0],\n",
              "         [    0],\n",
              "         [    0],\n",
              "         [    0],\n",
              "         [    0],\n",
              "         [    0],\n",
              "         [    0],\n",
              "         [    0],\n",
              "         [    0],\n",
              "         [    0],\n",
              "         [    0],\n",
              "         [    0],\n",
              "         [    0],\n",
              "         [    0],\n",
              "         [    0],\n",
              "         [    0],\n",
              "         [    0],\n",
              "         [    0],\n",
              "         [    0],\n",
              "         [    0],\n",
              "         [    0]],\n",
              " \n",
              "        [[  938],\n",
              "         [  125],\n",
              "         [   97],\n",
              "         [ 1059],\n",
              "         [  141],\n",
              "         [  186],\n",
              "         [   13],\n",
              "         [    8],\n",
              "         [ 6692],\n",
              "         [ 2074],\n",
              "         [ 3311],\n",
              "         [    8],\n",
              "         [ 6679],\n",
              "         [ 3385],\n",
              "         [12187],\n",
              "         [   58],\n",
              "         [    1],\n",
              "         [    0],\n",
              "         [    0],\n",
              "         [    0],\n",
              "         [    0],\n",
              "         [    0],\n",
              "         [    0],\n",
              "         [    0],\n",
              "         [    0],\n",
              "         [    0],\n",
              "         [    0],\n",
              "         [    0],\n",
              "         [    0],\n",
              "         [    0],\n",
              "         [    0],\n",
              "         [    0],\n",
              "         [    0],\n",
              "         [    0],\n",
              "         [    0],\n",
              "         [    0],\n",
              "         [    0],\n",
              "         [    0],\n",
              "         [    0],\n",
              "         [    0],\n",
              "         [    0],\n",
              "         [    0],\n",
              "         [    0],\n",
              "         [    0],\n",
              "         [    0],\n",
              "         [    0],\n",
              "         [    0],\n",
              "         [    0],\n",
              "         [    0],\n",
              "         [    0],\n",
              "         [    0],\n",
              "         [    0],\n",
              "         [    0],\n",
              "         [    0],\n",
              "         [    0],\n",
              "         [    0],\n",
              "         [    0],\n",
              "         [    0],\n",
              "         [    0],\n",
              "         [    0],\n",
              "         [    0],\n",
              "         [    0],\n",
              "         [    0],\n",
              "         [    0],\n",
              "         [    0],\n",
              "         [    0],\n",
              "         [    0],\n",
              "         [    0],\n",
              "         [    0],\n",
              "         [    0],\n",
              "         [    0],\n",
              "         [    0],\n",
              "         [    0],\n",
              "         [    0],\n",
              "         [    0],\n",
              "         [    0],\n",
              "         [    0],\n",
              "         [    0],\n",
              "         [    0],\n",
              "         [    0],\n",
              "         [    0],\n",
              "         [    0],\n",
              "         [    0],\n",
              "         [    0],\n",
              "         [    0],\n",
              "         [    0],\n",
              "         [    0],\n",
              "         [    0],\n",
              "         [    0],\n",
              "         [    0],\n",
              "         [    0],\n",
              "         [    0],\n",
              "         [    0],\n",
              "         [    0],\n",
              "         [    0],\n",
              "         [    0],\n",
              "         [    0],\n",
              "         [    0],\n",
              "         [    0],\n",
              "         [    0]]], dtype=int32)>)"
            ]
          },
          "metadata": {
            "tags": []
          },
          "execution_count": 25
        }
      ]
    },
    {
      "cell_type": "code",
      "metadata": {
        "scrolled": true,
        "id": "APrEPnW0DXOk",
        "colab_type": "code",
        "colab": {}
      },
      "source": [
        "# outputs = model(data[0])\n",
        "# print(\"outputs len: \", len(outputs))\n",
        "# print(outputs[0].shape)"
      ],
      "execution_count": null,
      "outputs": []
    },
    {
      "cell_type": "code",
      "metadata": {
        "id": "fpihSQNuDXOm",
        "colab_type": "code",
        "colab": {}
      },
      "source": [
        "class CustomScheduleCallback(tf.keras.callbacks.Callback):\n",
        "    def __init__(self, warmup_steps=1e4):\n",
        "        super().__init__()\n",
        "        self.warmup_steps =warmup_steps\n",
        "    \n",
        "    def calcualte_lr(self, step):\n",
        "        step = tf.cast(step, tf.float32)\n",
        "        m = tf.maximum(self.warmup_steps, step)\n",
        "        m = tf.cast(m, tf.float32)\n",
        "        lr = tf.math.rsqrt(m)\n",
        "        return lr\n",
        "    \n",
        "    def on_train_batch_end(self, step, logs=None):\n",
        "        optimizer = self.model.optimizer\n",
        "        itr = optimizer.iterations\n",
        "        scheduled_lr = self.calcualte_lr(itr)        \n",
        "        tf.keras.backend.set_value(optimizer.lr, scheduled_lr)"
      ],
      "execution_count": null,
      "outputs": []
    },
    {
      "cell_type": "code",
      "metadata": {
        "id": "xHq71CTDDXOn",
        "colab_type": "code",
        "colab": {}
      },
      "source": [
        "class CustomSchedule(tf.keras.optimizers.schedules.LearningRateSchedule):\n",
        "  def __init__(self, warmup_steps=1e4, schedule=True, initial_lr = 1e-3):\n",
        "    super().__init__()\n",
        "\n",
        "    self.warmup_steps = tf.cast(warmup_steps, tf.float32)\n",
        "    \n",
        "  def __call__(self, step):\n",
        "    step = tf.cast(step, tf.float32)\n",
        "    m = tf.maximum(self.warmup_steps, step)\n",
        "    m = tf.cast(m, tf.float32)\n",
        "    lr = tf.math.rsqrt(m)\n",
        "    \n",
        "    return lr \n",
        "        "
      ],
      "execution_count": null,
      "outputs": []
    },
    {
      "cell_type": "code",
      "metadata": {
        "id": "rA9OVe28DXOq",
        "colab_type": "code",
        "colab": {}
      },
      "source": [
        "# steps = 150\n",
        "# valid_steps = 150\n",
        "start_profile_batch = steps+10\n",
        "stop_profile_batch = start_profile_batch + 100\n",
        "profile_range = f\"{start_profile_batch},{stop_profile_batch}\"\n",
        "\n",
        "log_path = log_dir + \"/\" + datetime.datetime.now().strftime(\"%Y-%m-%d_%H:%M:%S\")\n",
        "tensorboard_callback = tf.keras.callbacks.TensorBoard(log_dir=log_path, histogram_freq=1,\n",
        "                                                     update_freq=20,profile_batch=profile_range)\n",
        "\n",
        "checkpoint_filepath = save_path + \"/\" + \"T5-{epoch:04d}-{val_loss:.4f}.ckpt\"\n",
        "model_checkpoint_callback = tf.keras.callbacks.ModelCheckpoint(\n",
        "    filepath=checkpoint_filepath,\n",
        "    save_weights_only=False,\n",
        "    monitor='val_loss',\n",
        "    mode='min',\n",
        "    save_best_only=False)\n",
        "\n",
        "custom_schedule_callback = CustomScheduleCallback(warmup_steps)\n",
        "\n",
        "# print(log_path)\n",
        "# custom_logger_callback = CutomLoggerCallback(log_dir)\n",
        "callbacks = [tensorboard_callback, model_checkpoint_callback] # custom_schedule_callback\n",
        "metrics = [tf.keras.metrics.SparseTopKCategoricalAccuracy(name='accuracy') ]"
      ],
      "execution_count": null,
      "outputs": []
    },
    {
      "cell_type": "code",
      "metadata": {
        "id": "G6-LcG6TDXOt",
        "colab_type": "code",
        "colab": {},
        "outputId": "26461795-21ed-418e-d843-415152d291ec"
      },
      "source": [
        "plt.style.use('ggplot')\n",
        "schedule = CustomSchedule()\n",
        "plt.plot(schedule(tf.range(25000, dtype=tf.float32)))\n",
        "plt.xlabel(\"Steps\")\n",
        "plt.ylabel(\"Learning rate\")"
      ],
      "execution_count": null,
      "outputs": [
        {
          "output_type": "execute_result",
          "data": {
            "text/plain": [
              "Text(0, 0.5, 'Learning rate')"
            ]
          },
          "metadata": {
            "tags": []
          },
          "execution_count": 31
        },
        {
          "output_type": "display_data",
          "data": {
            "image/png": "[encoded data removed]",
            "text/plain": [
              "<Figure size 432x288 with 1 Axes>"
            ]
          },
          "metadata": {
            "tags": []
          }
        }
      ]
    },
    {
      "cell_type": "code",
      "metadata": {
        "id": "SX_CQGhoDXOw",
        "colab_type": "code",
        "colab": {}
      },
      "source": [
        "# learning_rate = CustomSchedule()\n",
        "learning_rate = 0.001\n",
        "optimizer = tf.keras.optimizers.Adam(learning_rate=learning_rate)"
      ],
      "execution_count": null,
      "outputs": []
    },
    {
      "cell_type": "code",
      "metadata": {
        "id": "J2vcCZyyDXOy",
        "colab_type": "code",
        "colab": {}
      },
      "source": [
        ""
      ],
      "execution_count": null,
      "outputs": []
    },
    {
      "cell_type": "code",
      "metadata": {
        "id": "AZym7SmWDXO0",
        "colab_type": "code",
        "colab": {},
        "outputId": "a2d7251a-59e9-4058-ef95-cde31265c8e2"
      },
      "source": [
        "# model = SnapthatT5.from_pretrained(save_path)\n",
        "model = SnapthatT5.from_pretrained(\"t5-base\")\n",
        "# config = T5Config.from_json_file(\"/home/ml/workspace/ai/language-modelling/data/experiments/t5/models/config.json\")\n",
        "# model = SnapthatT5(config)"
      ],
      "execution_count": null,
      "outputs": [
        {
          "output_type": "stream",
          "text": [
            "WARNING:transformers.modeling_tf_utils:All model checkpoint weights were used when initializing SnapthatT5.\n",
            "\n",
            "WARNING:transformers.modeling_tf_utils:Some weights of SnapthatT5 were not initialized from the model checkpoint at t5-base and are newly initialized: ['loss']\n",
            "You should probably TRAIN this model on a down-stream task to be able to use it for predictions and inference.\n"
          ],
          "name": "stderr"
        }
      ]
    },
    {
      "cell_type": "code",
      "metadata": {
        "id": "z_QxL8gPDXO1",
        "colab_type": "code",
        "colab": {}
      },
      "source": [
        "model.compile(optimizer=optimizer, metrics=metrics)"
      ],
      "execution_count": null,
      "outputs": []
    },
    {
      "cell_type": "code",
      "metadata": {
        "id": "H-pR7ApEDXO3",
        "colab_type": "code",
        "colab": {}
      },
      "source": [
        "# model.save_pretrained(save_path)\n",
        "# model.load_weights(checkpoint_filepath)"
      ],
      "execution_count": null,
      "outputs": []
    },
    {
      "cell_type": "code",
      "metadata": {
        "scrolled": true,
        "id": "x8QOVpFxDXO5",
        "colab_type": "code",
        "colab": {},
        "outputId": "9e187954-459a-4770-f383-a1501b21e90f"
      },
      "source": [
        "epochs_done = 0\n",
        "model.fit(train_ds, epochs=50, steps_per_epoch=steps, callbacks=callbacks, \n",
        "          validation_data=valid_ds, validation_steps=valid_steps, initial_epoch=epochs_done)"
      ],
      "execution_count": null,
      "outputs": [
        {
          "output_type": "stream",
          "text": [
            "Epoch 1/50\n"
          ],
          "name": "stdout"
        },
        {
          "output_type": "stream",
          "text": [
            "/home/ml/anaconda3/envs/hugging/lib/python3.7/site-packages/tensorflow/python/framework/indexed_slices.py:432: UserWarning: Converting sparse IndexedSlices to a dense Tensor of unknown shape. This may consume a large amount of memory.\n",
            "  \"Converting sparse IndexedSlices to a dense Tensor of unknown shape. \"\n",
            "/home/ml/anaconda3/envs/hugging/lib/python3.7/site-packages/transformers/tokenization_utils_base.py:1768: FutureWarning: The `pad_to_max_length` argument is deprecated and will be removed in a future version, use `padding=True` or `padding='longest'` to pad to the longest sequence in the batch, or use `padding='max_length'` to pad to a max length. In this case, you can give a specific length with `max_length` (e.g. `max_length=45`) or leave max_length to None to pad to the maximal input size of the model (e.g. 512 for Bert).\n",
            "  FutureWarning,\n"
          ],
          "name": "stderr"
        },
        {
          "output_type": "stream",
          "text": [
            " 4305/21900 [====>.........................] - ETA: 2:07:09 - accuracy: 0.9583 - loss: 0.3908 - lr: 0.0010"
          ],
          "name": "stdout"
        },
        {
          "output_type": "error",
          "ename": "KeyboardInterrupt",
          "evalue": "",
          "traceback": [
            "\u001b[0;31m---------------------------------------------------------------------------\u001b[0m",
            "\u001b[0;31mKeyboardInterrupt\u001b[0m                         Traceback (most recent call last)",
            "\u001b[0;32m<ipython-input-36-1e56b2793c49>\u001b[0m in \u001b[0;36m<module>\u001b[0;34m\u001b[0m\n\u001b[1;32m      1\u001b[0m \u001b[0mepochs_done\u001b[0m \u001b[0;34m=\u001b[0m \u001b[0;36m0\u001b[0m\u001b[0;34m\u001b[0m\u001b[0m\n\u001b[1;32m      2\u001b[0m model.fit(train_ds, epochs=50, steps_per_epoch=steps, callbacks=callbacks, \n\u001b[0;32m----> 3\u001b[0;31m           validation_data=valid_ds, validation_steps=valid_steps, initial_epoch=epochs_done)\n\u001b[0m",
            "\u001b[0;32m~/anaconda3/envs/hugging/lib/python3.7/site-packages/tensorflow/python/keras/engine/training.py\u001b[0m in \u001b[0;36m_method_wrapper\u001b[0;34m(self, *args, **kwargs)\u001b[0m\n\u001b[1;32m    106\u001b[0m   \u001b[0;32mdef\u001b[0m \u001b[0m_method_wrapper\u001b[0m\u001b[0;34m(\u001b[0m\u001b[0mself\u001b[0m\u001b[0;34m,\u001b[0m \u001b[0;34m*\u001b[0m\u001b[0margs\u001b[0m\u001b[0;34m,\u001b[0m \u001b[0;34m**\u001b[0m\u001b[0mkwargs\u001b[0m\u001b[0;34m)\u001b[0m\u001b[0;34m:\u001b[0m\u001b[0;34m\u001b[0m\u001b[0m\n\u001b[1;32m    107\u001b[0m     \u001b[0;32mif\u001b[0m \u001b[0;32mnot\u001b[0m \u001b[0mself\u001b[0m\u001b[0;34m.\u001b[0m\u001b[0m_in_multi_worker_mode\u001b[0m\u001b[0;34m(\u001b[0m\u001b[0;34m)\u001b[0m\u001b[0;34m:\u001b[0m  \u001b[0;31m# pylint: disable=protected-access\u001b[0m\u001b[0;34m\u001b[0m\u001b[0m\n\u001b[0;32m--> 108\u001b[0;31m       \u001b[0;32mreturn\u001b[0m \u001b[0mmethod\u001b[0m\u001b[0;34m(\u001b[0m\u001b[0mself\u001b[0m\u001b[0;34m,\u001b[0m \u001b[0;34m*\u001b[0m\u001b[0margs\u001b[0m\u001b[0;34m,\u001b[0m \u001b[0;34m**\u001b[0m\u001b[0mkwargs\u001b[0m\u001b[0;34m)\u001b[0m\u001b[0;34m\u001b[0m\u001b[0m\n\u001b[0m\u001b[1;32m    109\u001b[0m \u001b[0;34m\u001b[0m\u001b[0m\n\u001b[1;32m    110\u001b[0m     \u001b[0;31m# Running inside `run_distribute_coordinator` already.\u001b[0m\u001b[0;34m\u001b[0m\u001b[0;34m\u001b[0m\u001b[0m\n",
            "\u001b[0;32m~/anaconda3/envs/hugging/lib/python3.7/site-packages/tensorflow/python/keras/engine/training.py\u001b[0m in \u001b[0;36mfit\u001b[0;34m(self, x, y, batch_size, epochs, verbose, callbacks, validation_split, validation_data, shuffle, class_weight, sample_weight, initial_epoch, steps_per_epoch, validation_steps, validation_batch_size, validation_freq, max_queue_size, workers, use_multiprocessing)\u001b[0m\n\u001b[1;32m   1096\u001b[0m                 batch_size=batch_size):\n\u001b[1;32m   1097\u001b[0m               \u001b[0mcallbacks\u001b[0m\u001b[0;34m.\u001b[0m\u001b[0mon_train_batch_begin\u001b[0m\u001b[0;34m(\u001b[0m\u001b[0mstep\u001b[0m\u001b[0;34m)\u001b[0m\u001b[0;34m\u001b[0m\u001b[0m\n\u001b[0;32m-> 1098\u001b[0;31m               \u001b[0mtmp_logs\u001b[0m \u001b[0;34m=\u001b[0m \u001b[0mtrain_function\u001b[0m\u001b[0;34m(\u001b[0m\u001b[0miterator\u001b[0m\u001b[0;34m)\u001b[0m\u001b[0;34m\u001b[0m\u001b[0m\n\u001b[0m\u001b[1;32m   1099\u001b[0m               \u001b[0;32mif\u001b[0m \u001b[0mdata_handler\u001b[0m\u001b[0;34m.\u001b[0m\u001b[0mshould_sync\u001b[0m\u001b[0;34m:\u001b[0m\u001b[0;34m\u001b[0m\u001b[0m\n\u001b[1;32m   1100\u001b[0m                 \u001b[0mcontext\u001b[0m\u001b[0;34m.\u001b[0m\u001b[0masync_wait\u001b[0m\u001b[0;34m(\u001b[0m\u001b[0;34m)\u001b[0m\u001b[0;34m\u001b[0m\u001b[0m\n",
            "\u001b[0;32m~/anaconda3/envs/hugging/lib/python3.7/site-packages/tensorflow/python/eager/def_function.py\u001b[0m in \u001b[0;36m__call__\u001b[0;34m(self, *args, **kwds)\u001b[0m\n\u001b[1;32m    778\u001b[0m       \u001b[0;32melse\u001b[0m\u001b[0;34m:\u001b[0m\u001b[0;34m\u001b[0m\u001b[0m\n\u001b[1;32m    779\u001b[0m         \u001b[0mcompiler\u001b[0m \u001b[0;34m=\u001b[0m \u001b[0;34m\"nonXla\"\u001b[0m\u001b[0;34m\u001b[0m\u001b[0m\n\u001b[0;32m--> 780\u001b[0;31m         \u001b[0mresult\u001b[0m \u001b[0;34m=\u001b[0m \u001b[0mself\u001b[0m\u001b[0;34m.\u001b[0m\u001b[0m_call\u001b[0m\u001b[0;34m(\u001b[0m\u001b[0;34m*\u001b[0m\u001b[0margs\u001b[0m\u001b[0;34m,\u001b[0m \u001b[0;34m**\u001b[0m\u001b[0mkwds\u001b[0m\u001b[0;34m)\u001b[0m\u001b[0;34m\u001b[0m\u001b[0m\n\u001b[0m\u001b[1;32m    781\u001b[0m \u001b[0;34m\u001b[0m\u001b[0m\n\u001b[1;32m    782\u001b[0m       \u001b[0mnew_tracing_count\u001b[0m \u001b[0;34m=\u001b[0m \u001b[0mself\u001b[0m\u001b[0;34m.\u001b[0m\u001b[0m_get_tracing_count\u001b[0m\u001b[0;34m(\u001b[0m\u001b[0;34m)\u001b[0m\u001b[0;34m\u001b[0m\u001b[0m\n",
            "\u001b[0;32m~/anaconda3/envs/hugging/lib/python3.7/site-packages/tensorflow/python/eager/def_function.py\u001b[0m in \u001b[0;36m_call\u001b[0;34m(self, *args, **kwds)\u001b[0m\n\u001b[1;32m    805\u001b[0m       \u001b[0;31m# In this case we have created variables on the first call, so we run the\u001b[0m\u001b[0;34m\u001b[0m\u001b[0;34m\u001b[0m\u001b[0m\n\u001b[1;32m    806\u001b[0m       \u001b[0;31m# defunned version which is guaranteed to never create variables.\u001b[0m\u001b[0;34m\u001b[0m\u001b[0;34m\u001b[0m\u001b[0m\n\u001b[0;32m--> 807\u001b[0;31m       \u001b[0;32mreturn\u001b[0m \u001b[0mself\u001b[0m\u001b[0;34m.\u001b[0m\u001b[0m_stateless_fn\u001b[0m\u001b[0;34m(\u001b[0m\u001b[0;34m*\u001b[0m\u001b[0margs\u001b[0m\u001b[0;34m,\u001b[0m \u001b[0;34m**\u001b[0m\u001b[0mkwds\u001b[0m\u001b[0;34m)\u001b[0m  \u001b[0;31m# pylint: disable=not-callable\u001b[0m\u001b[0;34m\u001b[0m\u001b[0m\n\u001b[0m\u001b[1;32m    808\u001b[0m     \u001b[0;32melif\u001b[0m \u001b[0mself\u001b[0m\u001b[0;34m.\u001b[0m\u001b[0m_stateful_fn\u001b[0m \u001b[0;32mis\u001b[0m \u001b[0;32mnot\u001b[0m \u001b[0;32mNone\u001b[0m\u001b[0;34m:\u001b[0m\u001b[0;34m\u001b[0m\u001b[0m\n\u001b[1;32m    809\u001b[0m       \u001b[0;31m# Release the lock early so that multiple threads can perform the call\u001b[0m\u001b[0;34m\u001b[0m\u001b[0;34m\u001b[0m\u001b[0m\n",
            "\u001b[0;32m~/anaconda3/envs/hugging/lib/python3.7/site-packages/tensorflow/python/eager/function.py\u001b[0m in \u001b[0;36m__call__\u001b[0;34m(self, *args, **kwargs)\u001b[0m\n\u001b[1;32m   2827\u001b[0m     \u001b[0;32mwith\u001b[0m \u001b[0mself\u001b[0m\u001b[0;34m.\u001b[0m\u001b[0m_lock\u001b[0m\u001b[0;34m:\u001b[0m\u001b[0;34m\u001b[0m\u001b[0m\n\u001b[1;32m   2828\u001b[0m       \u001b[0mgraph_function\u001b[0m\u001b[0;34m,\u001b[0m \u001b[0margs\u001b[0m\u001b[0;34m,\u001b[0m \u001b[0mkwargs\u001b[0m \u001b[0;34m=\u001b[0m \u001b[0mself\u001b[0m\u001b[0;34m.\u001b[0m\u001b[0m_maybe_define_function\u001b[0m\u001b[0;34m(\u001b[0m\u001b[0margs\u001b[0m\u001b[0;34m,\u001b[0m \u001b[0mkwargs\u001b[0m\u001b[0;34m)\u001b[0m\u001b[0;34m\u001b[0m\u001b[0m\n\u001b[0;32m-> 2829\u001b[0;31m     \u001b[0;32mreturn\u001b[0m \u001b[0mgraph_function\u001b[0m\u001b[0;34m.\u001b[0m\u001b[0m_filtered_call\u001b[0m\u001b[0;34m(\u001b[0m\u001b[0margs\u001b[0m\u001b[0;34m,\u001b[0m \u001b[0mkwargs\u001b[0m\u001b[0;34m)\u001b[0m  \u001b[0;31m# pylint: disable=protected-access\u001b[0m\u001b[0;34m\u001b[0m\u001b[0m\n\u001b[0m\u001b[1;32m   2830\u001b[0m \u001b[0;34m\u001b[0m\u001b[0m\n\u001b[1;32m   2831\u001b[0m   \u001b[0;34m@\u001b[0m\u001b[0mproperty\u001b[0m\u001b[0;34m\u001b[0m\u001b[0m\n",
            "\u001b[0;32m~/anaconda3/envs/hugging/lib/python3.7/site-packages/tensorflow/python/eager/function.py\u001b[0m in \u001b[0;36m_filtered_call\u001b[0;34m(self, args, kwargs, cancellation_manager)\u001b[0m\n\u001b[1;32m   1846\u001b[0m                            resource_variable_ops.BaseResourceVariable))],\n\u001b[1;32m   1847\u001b[0m         \u001b[0mcaptured_inputs\u001b[0m\u001b[0;34m=\u001b[0m\u001b[0mself\u001b[0m\u001b[0;34m.\u001b[0m\u001b[0mcaptured_inputs\u001b[0m\u001b[0;34m,\u001b[0m\u001b[0;34m\u001b[0m\u001b[0m\n\u001b[0;32m-> 1848\u001b[0;31m         cancellation_manager=cancellation_manager)\n\u001b[0m\u001b[1;32m   1849\u001b[0m \u001b[0;34m\u001b[0m\u001b[0m\n\u001b[1;32m   1850\u001b[0m   \u001b[0;32mdef\u001b[0m \u001b[0m_call_flat\u001b[0m\u001b[0;34m(\u001b[0m\u001b[0mself\u001b[0m\u001b[0;34m,\u001b[0m \u001b[0margs\u001b[0m\u001b[0;34m,\u001b[0m \u001b[0mcaptured_inputs\u001b[0m\u001b[0;34m,\u001b[0m \u001b[0mcancellation_manager\u001b[0m\u001b[0;34m=\u001b[0m\u001b[0;32mNone\u001b[0m\u001b[0;34m)\u001b[0m\u001b[0;34m:\u001b[0m\u001b[0;34m\u001b[0m\u001b[0m\n",
            "\u001b[0;32m~/anaconda3/envs/hugging/lib/python3.7/site-packages/tensorflow/python/eager/function.py\u001b[0m in \u001b[0;36m_call_flat\u001b[0;34m(self, args, captured_inputs, cancellation_manager)\u001b[0m\n\u001b[1;32m   1922\u001b[0m       \u001b[0;31m# No tape is watching; skip to running the function.\u001b[0m\u001b[0;34m\u001b[0m\u001b[0;34m\u001b[0m\u001b[0m\n\u001b[1;32m   1923\u001b[0m       return self._build_call_outputs(self._inference_function.call(\n\u001b[0;32m-> 1924\u001b[0;31m           ctx, args, cancellation_manager=cancellation_manager))\n\u001b[0m\u001b[1;32m   1925\u001b[0m     forward_backward = self._select_forward_and_backward_functions(\n\u001b[1;32m   1926\u001b[0m         \u001b[0margs\u001b[0m\u001b[0;34m,\u001b[0m\u001b[0;34m\u001b[0m\u001b[0m\n",
            "\u001b[0;32m~/anaconda3/envs/hugging/lib/python3.7/site-packages/tensorflow/python/eager/function.py\u001b[0m in \u001b[0;36mcall\u001b[0;34m(self, ctx, args, cancellation_manager)\u001b[0m\n\u001b[1;32m    548\u001b[0m               \u001b[0minputs\u001b[0m\u001b[0;34m=\u001b[0m\u001b[0margs\u001b[0m\u001b[0;34m,\u001b[0m\u001b[0;34m\u001b[0m\u001b[0m\n\u001b[1;32m    549\u001b[0m               \u001b[0mattrs\u001b[0m\u001b[0;34m=\u001b[0m\u001b[0mattrs\u001b[0m\u001b[0;34m,\u001b[0m\u001b[0;34m\u001b[0m\u001b[0m\n\u001b[0;32m--> 550\u001b[0;31m               ctx=ctx)\n\u001b[0m\u001b[1;32m    551\u001b[0m         \u001b[0;32melse\u001b[0m\u001b[0;34m:\u001b[0m\u001b[0;34m\u001b[0m\u001b[0m\n\u001b[1;32m    552\u001b[0m           outputs = execute.execute_with_cancellation(\n",
            "\u001b[0;32m~/anaconda3/envs/hugging/lib/python3.7/site-packages/tensorflow/python/eager/execute.py\u001b[0m in \u001b[0;36mquick_execute\u001b[0;34m(op_name, num_outputs, inputs, attrs, ctx, name)\u001b[0m\n\u001b[1;32m     58\u001b[0m     \u001b[0mctx\u001b[0m\u001b[0;34m.\u001b[0m\u001b[0mensure_initialized\u001b[0m\u001b[0;34m(\u001b[0m\u001b[0;34m)\u001b[0m\u001b[0;34m\u001b[0m\u001b[0m\n\u001b[1;32m     59\u001b[0m     tensors = pywrap_tfe.TFE_Py_Execute(ctx._handle, device_name, op_name,\n\u001b[0;32m---> 60\u001b[0;31m                                         inputs, attrs, num_outputs)\n\u001b[0m\u001b[1;32m     61\u001b[0m   \u001b[0;32mexcept\u001b[0m \u001b[0mcore\u001b[0m\u001b[0;34m.\u001b[0m\u001b[0m_NotOkStatusException\u001b[0m \u001b[0;32mas\u001b[0m \u001b[0me\u001b[0m\u001b[0;34m:\u001b[0m\u001b[0;34m\u001b[0m\u001b[0m\n\u001b[1;32m     62\u001b[0m     \u001b[0;32mif\u001b[0m \u001b[0mname\u001b[0m \u001b[0;32mis\u001b[0m \u001b[0;32mnot\u001b[0m \u001b[0;32mNone\u001b[0m\u001b[0;34m:\u001b[0m\u001b[0;34m\u001b[0m\u001b[0m\n",
            "\u001b[0;31mKeyboardInterrupt\u001b[0m: "
          ]
        }
      ]
    },
    {
      "cell_type": "code",
      "metadata": {
        "id": "pDIaNYrVDXO7",
        "colab_type": "code",
        "colab": {}
      },
      "source": [
        "# model.evaluate(valid_ds, steps=valid_steps)"
      ],
      "execution_count": null,
      "outputs": []
    },
    {
      "cell_type": "code",
      "metadata": {
        "id": "nYDPH77LDXO9",
        "colab_type": "code",
        "colab": {}
      },
      "source": [
        "model.save_pretrained(\"/root/language-modelling/data/experiments/t5/models/T5-0022-0.2429\")\n"
      ],
      "execution_count": null,
      "outputs": []
    },
    {
      "cell_type": "code",
      "metadata": {
        "id": "2ihk1kxxDXO_",
        "colab_type": "code",
        "colab": {}
      },
      "source": [
        "encoded_query = tokenizer(\"summarize: object detection </s>\", \n",
        "                         return_tensors='tf', padding=True, truncation=True)\n",
        "input_ids = encoded_query[\"input_ids\"]\n",
        "attention_mask = encoded_query[\"attention_mask\"]\n",
        "generated_question = model.generate(input_ids, attention_mask=attention_mask)\n",
        "decoded_question = tokenizer.decode(generated_question.numpy()[0])"
      ],
      "execution_count": null,
      "outputs": []
    },
    {
      "cell_type": "code",
      "metadata": {
        "id": "EejrdGS6DXPB",
        "colab_type": "code",
        "colab": {},
        "outputId": "f2747344-4e8d-4794-8d92-00f4a6f87616"
      },
      "source": [
        "decoded_question"
      ],
      "execution_count": null,
      "outputs": [
        {
          "output_type": "execute_result",
          "data": {
            "text/plain": [
              "'object detection is object detection?'"
            ]
          },
          "metadata": {
            "tags": []
          },
          "execution_count": 46
        }
      ]
    },
    {
      "cell_type": "code",
      "metadata": {
        "id": "c7VSv5o-DXPD",
        "colab_type": "code",
        "colab": {}
      },
      "source": [
        "no_questions = 5\n",
        "encoded_query = tokenizer(\"ask_question: beards </s>\", \n",
        "                         return_tensors='tf', truncation=True, \n",
        "                          pad_to_max_length=max_len)\n",
        "input_ids = encoded_query[\"input_ids\"]\n",
        "attention_mask = encoded_query[\"attention_mask\"]\n",
        "generated_question = model.generate(input_ids, attention_mask=attention_mask,\n",
        "                                   do_sample=True, max_length=max_len, top_p=0.98, top_k=50,\n",
        "                                   num_return_sequences=no_questions, repetition_penalty=5)"
      ],
      "execution_count": null,
      "outputs": []
    },
    {
      "cell_type": "code",
      "metadata": {
        "id": "QbZ4RObJDXPF",
        "colab_type": "code",
        "colab": {},
        "outputId": "6cf1ff95-096c-4fcf-eb8a-633d24c42d79"
      },
      "source": [
        "for en_question in list(generated_question):\n",
        "    decoded_question = tokenizer.decode(en_question.numpy())\n",
        "    print(decoded_question)"
      ],
      "execution_count": null,
      "outputs": [
        {
          "output_type": "stream",
          "text": [
            "What is the other important way that humans are asked to be placed in a concert?\n",
            "When was the first one of which other signs criticized by beers forbiding indentenent and mistruth?\n",
            "How many ducks spawned for the first time?\n",
            "When are the reds introduced?\n",
            "What type of animal has been raised by a male group in The A-R?\n"
          ],
          "name": "stdout"
        }
      ]
    },
    {
      "cell_type": "code",
      "metadata": {
        "id": "IfQmkJyqDXPI",
        "colab_type": "code",
        "colab": {}
      },
      "source": [
        ""
      ],
      "execution_count": null,
      "outputs": []
    },
    {
      "cell_type": "code",
      "metadata": {
        "id": "hFUGHduFDXPK",
        "colab_type": "code",
        "colab": {}
      },
      "source": [
        ""
      ],
      "execution_count": null,
      "outputs": []
    },
    {
      "cell_type": "code",
      "metadata": {
        "id": "gRuos-M-DXPM",
        "colab_type": "code",
        "colab": {}
      },
      "source": [
        ""
      ],
      "execution_count": null,
      "outputs": []
    }
  ]
}